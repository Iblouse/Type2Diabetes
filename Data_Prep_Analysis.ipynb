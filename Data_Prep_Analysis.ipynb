{
  "nbformat": 4,
  "nbformat_minor": 0,
  "metadata": {
    "colab": {
      "name": "Data_Prep_Analysis.ipynb",
      "provenance": [],
      "collapsed_sections": [],
      "include_colab_link": true
    },
    "kernelspec": {
      "display_name": "Python 3",
      "language": "python",
      "name": "python3"
    },
    "language_info": {
      "codemirror_mode": {
        "name": "ipython",
        "version": 3
      },
      "file_extension": ".py",
      "mimetype": "text/x-python",
      "name": "python",
      "nbconvert_exporter": "python",
      "pygments_lexer": "ipython3",
      "version": "3.8.8"
    }
  },
  "cells": [
    {
      "cell_type": "markdown",
      "metadata": {
        "id": "view-in-github",
        "colab_type": "text"
      },
      "source": [
        "<a href=\"https://colab.research.google.com/github/Iblouse/Type2Diabetes/blob/main/Data_Prep_Analysis.ipynb\" target=\"_parent\"><img src=\"https://colab.research.google.com/assets/colab-badge.svg\" alt=\"Open In Colab\"/></a>"
      ]
    },
    {
      "cell_type": "markdown",
      "metadata": {
        "id": "bY3UpwW0OU4e"
      },
      "source": [
        "# Part I: GATHERING DATA, PREPARING DATA, ANALYSE DATA"
      ]
    },
    {
      "cell_type": "markdown",
      "metadata": {
        "id": "VFDg8o2ZOU4h"
      },
      "source": [
        "##### Type 2 Diabetes is one of the most prevalent chronic diseases in the US and all around the world. It puts a lot of financial burden on the US economy.\n",
        "##### According to the [American Diabetes Association](https://www.diabetes.org/resources/statistics/cost-diabetes) \"on March 22, 2018 estimating the total costs of diagnosed diabetes have risen to 327 billion dollars in 2017 from 245 billion dollars in 2012, when the cost was last examined.\"\n",
        "##### The goal of this project is to develop predictive models to identify risk factors for type 2 diabetes, which could help facilitate early diagnosis and intervention and reduce medical costs. \n",
        "##### To do this project I will use the Behavioral Risk Factor Surveillance System dataset 2018 BRFSS from the CDC website.\n",
        "#####  The link to the dataset is [here](https://www.cdc.gov/brfss/annual_data/annual_2018.html) or you can download it directly [LLCP2018XPT.zip](https://www.cdc.gov/brfss/annual_data/2018/files/LLCP2018XPT.zip).\n",
        "##### The dataset is 437436 rows by 275 columns."
      ]
    },
    {
      "cell_type": "code",
      "metadata": {
        "id": "obUMMOPDOU4j"
      },
      "source": [
        "import pandas as pd\n",
        "import numpy as np\n",
        "import matplotlib.pyplot as plt\n",
        "%matplotlib inline\n",
        "import seaborn as sns\n",
        "sns.set()\n",
        "sns.set_style(\"whitegrid\")\n",
        "import scipy.stats as stats"
      ],
      "execution_count": null,
      "outputs": []
    },
    {
      "cell_type": "code",
      "metadata": {
        "id": "oar8mGRKOU4l"
      },
      "source": [
        "# Reading the SAS Dataset\n",
        "myDF = pd.read_sas('LLCP2018.XPT')"
      ],
      "execution_count": null,
      "outputs": []
    },
    {
      "cell_type": "code",
      "metadata": {
        "id": "Pd_GmmUfOU4m"
      },
      "source": [
        "myDF.head()"
      ],
      "execution_count": null,
      "outputs": []
    },
    {
      "cell_type": "code",
      "metadata": {
        "id": "qFzD3xjlOU4n"
      },
      "source": [
        "# Checking the number of rows and columns\n",
        "myDF.shape"
      ],
      "execution_count": null,
      "outputs": []
    },
    {
      "cell_type": "markdown",
      "metadata": {
        "id": "snIAkzLYOU4o"
      },
      "source": [
        "#### Selecting the variables for the project"
      ]
    },
    {
      "cell_type": "code",
      "metadata": {
        "id": "fVoptFzTOU4p"
      },
      "source": [
        "myDiab=myDF[['DIABETE3', 'HLTHPLN1', '_AGEG5YR','CHECKUP1','DECIDE','_RFHLTH', 'SLEPTIM1', 'FLUSHOT6', 'EMPLOY1', 'ADDEPEV2', 'RENTHOM1', 'EXERANY2', 'BLIND', 'CHCCOPD1',\n",
        "            '_SMOKER3', 'SEX1', '_MICHD','CHCKDNY1','_INCOMG','EDUCA','_PHYS14D','MEDCOST','_IMPRACE','_BMI5CAT','MARITAL', 'PERSDOC2', 'CVDSTRK3', '_LTASTH1', 'RMVTETH4', '_METSTAT']]"
      ],
      "execution_count": null,
      "outputs": []
    },
    {
      "cell_type": "markdown",
      "metadata": {
        "id": "_iQ97LhuOU4q"
      },
      "source": [
        "##### To avoid loading the whole dataset whenever we run the project, I will save only the necessary data (potential predictors selected above) to a csv file."
      ]
    },
    {
      "cell_type": "code",
      "metadata": {
        "id": "z8bHF_sJOU4q"
      },
      "source": [
        "myDiab.to_csv(r'C:\\Users\\ibrah\\Documents\\SharpestMind\\Type2Diabetes\\DiabetesP2.csv', index=False)"
      ],
      "execution_count": null,
      "outputs": []
    },
    {
      "cell_type": "code",
      "metadata": {
        "id": "SNPuuRXPPt7F"
      },
      "source": [
        "# Reading the saved dataset \n",
        "df = pd.read_csv('DiabetesP2.csv')"
      ],
      "execution_count": null,
      "outputs": []
    },
    {
      "cell_type": "code",
      "metadata": {
        "colab": {
          "base_uri": "https://localhost:8080/",
          "height": 223
        },
        "id": "hgwdlwFUOU4r",
        "outputId": "24ef817f-d79f-4800-e321-69a8c985564a"
      },
      "source": [
        "df.head()"
      ],
      "execution_count": null,
      "outputs": [
        {
          "output_type": "execute_result",
          "data": {
            "text/html": [
              "<div>\n",
              "<style scoped>\n",
              "    .dataframe tbody tr th:only-of-type {\n",
              "        vertical-align: middle;\n",
              "    }\n",
              "\n",
              "    .dataframe tbody tr th {\n",
              "        vertical-align: top;\n",
              "    }\n",
              "\n",
              "    .dataframe thead th {\n",
              "        text-align: right;\n",
              "    }\n",
              "</style>\n",
              "<table border=\"1\" class=\"dataframe\">\n",
              "  <thead>\n",
              "    <tr style=\"text-align: right;\">\n",
              "      <th></th>\n",
              "      <th>DIABETE3</th>\n",
              "      <th>HLTHPLN1</th>\n",
              "      <th>_AGEG5YR</th>\n",
              "      <th>CHECKUP1</th>\n",
              "      <th>DECIDE</th>\n",
              "      <th>_RFHLTH</th>\n",
              "      <th>SLEPTIM1</th>\n",
              "      <th>FLUSHOT6</th>\n",
              "      <th>EMPLOY1</th>\n",
              "      <th>ADDEPEV2</th>\n",
              "      <th>...</th>\n",
              "      <th>_PHYS14D</th>\n",
              "      <th>MEDCOST</th>\n",
              "      <th>_IMPRACE</th>\n",
              "      <th>_BMI5CAT</th>\n",
              "      <th>MARITAL</th>\n",
              "      <th>PERSDOC2</th>\n",
              "      <th>CVDSTRK3</th>\n",
              "      <th>_LTASTH1</th>\n",
              "      <th>RMVTETH4</th>\n",
              "      <th>_METSTAT</th>\n",
              "    </tr>\n",
              "  </thead>\n",
              "  <tbody>\n",
              "    <tr>\n",
              "      <th>0</th>\n",
              "      <td>3.0</td>\n",
              "      <td>1.0</td>\n",
              "      <td>13.0</td>\n",
              "      <td>1.0</td>\n",
              "      <td>2.0</td>\n",
              "      <td>1.0</td>\n",
              "      <td>7.0</td>\n",
              "      <td>1.0</td>\n",
              "      <td>2.0</td>\n",
              "      <td>2.0</td>\n",
              "      <td>...</td>\n",
              "      <td>3.0</td>\n",
              "      <td>2.0</td>\n",
              "      <td>1.0</td>\n",
              "      <td>2.0</td>\n",
              "      <td>3.0</td>\n",
              "      <td>1.0</td>\n",
              "      <td>2.0</td>\n",
              "      <td>1.0</td>\n",
              "      <td>1.0</td>\n",
              "      <td>2.0</td>\n",
              "    </tr>\n",
              "    <tr>\n",
              "      <th>1</th>\n",
              "      <td>3.0</td>\n",
              "      <td>2.0</td>\n",
              "      <td>3.0</td>\n",
              "      <td>2.0</td>\n",
              "      <td>2.0</td>\n",
              "      <td>1.0</td>\n",
              "      <td>5.0</td>\n",
              "      <td>2.0</td>\n",
              "      <td>1.0</td>\n",
              "      <td>2.0</td>\n",
              "      <td>...</td>\n",
              "      <td>1.0</td>\n",
              "      <td>1.0</td>\n",
              "      <td>2.0</td>\n",
              "      <td>4.0</td>\n",
              "      <td>5.0</td>\n",
              "      <td>1.0</td>\n",
              "      <td>2.0</td>\n",
              "      <td>1.0</td>\n",
              "      <td>8.0</td>\n",
              "      <td>1.0</td>\n",
              "    </tr>\n",
              "    <tr>\n",
              "      <th>2</th>\n",
              "      <td>1.0</td>\n",
              "      <td>1.0</td>\n",
              "      <td>12.0</td>\n",
              "      <td>1.0</td>\n",
              "      <td>2.0</td>\n",
              "      <td>2.0</td>\n",
              "      <td>7.0</td>\n",
              "      <td>1.0</td>\n",
              "      <td>7.0</td>\n",
              "      <td>1.0</td>\n",
              "      <td>...</td>\n",
              "      <td>2.0</td>\n",
              "      <td>2.0</td>\n",
              "      <td>1.0</td>\n",
              "      <td>3.0</td>\n",
              "      <td>3.0</td>\n",
              "      <td>1.0</td>\n",
              "      <td>1.0</td>\n",
              "      <td>1.0</td>\n",
              "      <td>7.0</td>\n",
              "      <td>2.0</td>\n",
              "    </tr>\n",
              "    <tr>\n",
              "      <th>3</th>\n",
              "      <td>3.0</td>\n",
              "      <td>1.0</td>\n",
              "      <td>10.0</td>\n",
              "      <td>1.0</td>\n",
              "      <td>2.0</td>\n",
              "      <td>1.0</td>\n",
              "      <td>6.0</td>\n",
              "      <td>1.0</td>\n",
              "      <td>7.0</td>\n",
              "      <td>2.0</td>\n",
              "      <td>...</td>\n",
              "      <td>1.0</td>\n",
              "      <td>2.0</td>\n",
              "      <td>1.0</td>\n",
              "      <td>3.0</td>\n",
              "      <td>2.0</td>\n",
              "      <td>1.0</td>\n",
              "      <td>2.0</td>\n",
              "      <td>1.0</td>\n",
              "      <td>1.0</td>\n",
              "      <td>1.0</td>\n",
              "    </tr>\n",
              "    <tr>\n",
              "      <th>4</th>\n",
              "      <td>3.0</td>\n",
              "      <td>1.0</td>\n",
              "      <td>5.0</td>\n",
              "      <td>1.0</td>\n",
              "      <td>2.0</td>\n",
              "      <td>1.0</td>\n",
              "      <td>7.0</td>\n",
              "      <td>2.0</td>\n",
              "      <td>1.0</td>\n",
              "      <td>2.0</td>\n",
              "      <td>...</td>\n",
              "      <td>1.0</td>\n",
              "      <td>2.0</td>\n",
              "      <td>1.0</td>\n",
              "      <td>NaN</td>\n",
              "      <td>1.0</td>\n",
              "      <td>2.0</td>\n",
              "      <td>2.0</td>\n",
              "      <td>1.0</td>\n",
              "      <td>8.0</td>\n",
              "      <td>2.0</td>\n",
              "    </tr>\n",
              "  </tbody>\n",
              "</table>\n",
              "<p>5 rows × 30 columns</p>\n",
              "</div>"
            ],
            "text/plain": [
              "   DIABETE3  HLTHPLN1  _AGEG5YR  CHECKUP1  DECIDE  _RFHLTH  SLEPTIM1  \\\n",
              "0       3.0       1.0      13.0       1.0     2.0      1.0       7.0   \n",
              "1       3.0       2.0       3.0       2.0     2.0      1.0       5.0   \n",
              "2       1.0       1.0      12.0       1.0     2.0      2.0       7.0   \n",
              "3       3.0       1.0      10.0       1.0     2.0      1.0       6.0   \n",
              "4       3.0       1.0       5.0       1.0     2.0      1.0       7.0   \n",
              "\n",
              "   FLUSHOT6  EMPLOY1  ADDEPEV2  ...  _PHYS14D  MEDCOST  _IMPRACE  _BMI5CAT  \\\n",
              "0       1.0      2.0       2.0  ...       3.0      2.0       1.0       2.0   \n",
              "1       2.0      1.0       2.0  ...       1.0      1.0       2.0       4.0   \n",
              "2       1.0      7.0       1.0  ...       2.0      2.0       1.0       3.0   \n",
              "3       1.0      7.0       2.0  ...       1.0      2.0       1.0       3.0   \n",
              "4       2.0      1.0       2.0  ...       1.0      2.0       1.0       NaN   \n",
              "\n",
              "   MARITAL  PERSDOC2  CVDSTRK3  _LTASTH1  RMVTETH4  _METSTAT  \n",
              "0      3.0       1.0       2.0       1.0       1.0       2.0  \n",
              "1      5.0       1.0       2.0       1.0       8.0       1.0  \n",
              "2      3.0       1.0       1.0       1.0       7.0       2.0  \n",
              "3      2.0       1.0       2.0       1.0       1.0       1.0  \n",
              "4      1.0       2.0       2.0       1.0       8.0       2.0  \n",
              "\n",
              "[5 rows x 30 columns]"
            ]
          },
          "metadata": {
            "tags": []
          },
          "execution_count": 5
        }
      ]
    },
    {
      "cell_type": "markdown",
      "metadata": {
        "id": "J-0s8VpnOU4s"
      },
      "source": [
        "##### Renaming Variables to make them easy to understand"
      ]
    },
    {
      "cell_type": "code",
      "metadata": {
        "id": "QoNO3HJlOU4t"
      },
      "source": [
        "# Creating a dictionary to rename columns\n",
        "myDict = { 'DIABETE3': 'Diabetes', 'HLTHPLN1':'Insurance','_AGEG5YR':'AgeGrp','CHECKUP1':'TimeLastVDr', 'FLUSHOT6':'Flushot', 'EMPLOY1':'Employment',\n",
        "           'ADDEPEV2':'Depression', 'RENTHOM1':'Housing', 'EXERANY2':'PartExercise', 'BLIND':'Vision', '_SMOKER3':'Smoke', 'DECIDE':'Focused',\n",
        "          '_PHYS14D':'PhysicalHealth', 'SLEPTIM1':'SleepTime','SEX1':'Sex', '_MICHD':'CardioVasc','CHCKDNY1':'KidneyDis','_INCOMG':'Income','EDUCA':'EducationLevel',\n",
        "          '_RFHLTH':'GenHealth','MEDCOST':'MedAffordability','_IMPRACE':'Race','_BMI5CAT':'BMICategory','MARITAL':'MaritalStatus', 'PERSDOC2':'PCP', 'CVDSTRK3':'Stroke', \n",
        "          '_LTASTH1':'Asthma', 'RMVTETH4':'RmTeeth', '_METSTAT':'Metrop', 'CHCCOPD1':'COPD'}"
      ],
      "execution_count": null,
      "outputs": []
    },
    {
      "cell_type": "code",
      "metadata": {
        "id": "WOrgAhgpOU4u"
      },
      "source": [
        "# Renaming columns\n",
        "df.rename(columns=myDict, inplace=True)"
      ],
      "execution_count": null,
      "outputs": []
    },
    {
      "cell_type": "markdown",
      "metadata": {
        "id": "VolkxlGzOU4u"
      },
      "source": [
        "##### Does for example education of a person affects his or her Diabetes status? To do it we will use the concept of odds, and we can estimate the odds ratio of education"
      ]
    },
    {
      "cell_type": "markdown",
      "metadata": {
        "id": "bpw7JuPNOU4v"
      },
      "source": [
        "## Univariate & Bivariate Analysis"
      ]
    },
    {
      "cell_type": "markdown",
      "metadata": {
        "id": "zztWPv0MOU4x"
      },
      "source": [
        "##### Because we want to predict type 2 diabetes we will exclude Type 1, and gestational diabetes \n",
        "###### A respondent is considered to have type 2 diabetes if the respondent was older than 35, not pregnant, and answered yes to the question “Have you ever been told you have diabetes?”"
      ]
    },
    {
      "cell_type": "code",
      "metadata": {
        "id": "1GMFN_9WOU4y"
      },
      "source": [
        "df = df[((df['Diabetes']==1.0) | (df['Diabetes']==3.0)) & ((df['AgeGrp'] >= 4) & (df['AgeGrp'] <= 13))]"
      ],
      "execution_count": null,
      "outputs": []
    },
    {
      "cell_type": "markdown",
      "metadata": {
        "id": "1Um4uPHaOU4y"
      },
      "source": [
        "##### We will exclude when the response is one of the following: refuse, unknown, and blank."
      ]
    },
    {
      "cell_type": "code",
      "metadata": {
        "id": "7PNpjElVOU4y"
      },
      "source": [
        "# Excluding unknown and refused responses\n",
        "df = df[df['SleepTime'] <= 24] \n",
        "df = df[df['Insurance']<=2]\n",
        "df = df[df['Focused'] <= 2]\n",
        "df = df[df['PhysicalHealth'] <= 3]\n",
        "df = df[df['Sex'] <= 2]\n",
        "df = df[df['KidneyDis']<=2]\n",
        "df = df[df['Income'] <= 5]\n",
        "df = df[df['GenHealth']<=2]\n",
        "df = df[df['MedAffordability'] <= 2]\n",
        "df = df[df['MaritalStatus'] <= 6]\n",
        "df = df[df['Employment'] < 9]\n",
        "df = df[df['Depression'] <= 2]\n",
        "df = df[df['Housing'] <= 3]\n",
        "df = df[df['PartExercise'] <= 2]\n",
        "df = df[df['Vision'] <= 2]\n",
        "df = df[df['PCP'] <= 3]\n",
        "df = df[df['Stroke'] <= 2]\n",
        "df = df[df['RmTeeth'] <= 8]\n",
        "df = df[df['Asthma'] <= 2]\n",
        "df = df[df['Flushot'] <= 2]\n",
        "df = df[df['TimeLastVDr'] <= 4]\n",
        "df = df[df['Smoke'] <= 4]\n",
        "df = df[df['CardioVasc'] <= 2]\n",
        "df = df[df['BMICategory'] <= 4]\n",
        "df = df[df['Metrop'] <= 2]\n",
        "df = df[df['COPD'] <= 2]\n",
        "df = df[df['EducationLevel'] <= 6]"
      ],
      "execution_count": null,
      "outputs": []
    },
    {
      "cell_type": "markdown",
      "metadata": {
        "id": "1fklBakyOU41"
      },
      "source": [
        "#### NOTE:\n",
        "##### From here we set the significance level at 0.05, for any p-value less than or equal to 0.05 is considered to be significant, meaning that the difference in odds ratio between two levels of the variable is significant."
      ]
    },
    {
      "cell_type": "markdown",
      "metadata": {
        "id": "w5Dg1M6hOU42"
      },
      "source": [
        "#### The target variable"
      ]
    },
    {
      "cell_type": "code",
      "metadata": {
        "colab": {
          "base_uri": "https://localhost:8080/"
        },
        "id": "KtOSDKrAOU43",
        "outputId": "e0111e85-30fc-4a07-8994-19da777b9848"
      },
      "source": [
        "df['Diabetes'].unique()"
      ],
      "execution_count": null,
      "outputs": [
        {
          "output_type": "execute_result",
          "data": {
            "text/plain": [
              "array([3., 1.])"
            ]
          },
          "metadata": {
            "tags": []
          },
          "execution_count": 7
        }
      ]
    },
    {
      "cell_type": "code",
      "metadata": {
        "id": "WqP8K7n_OU43"
      },
      "source": [
        "df.loc[df['Diabetes'] == 1, 'Diabetes'] = 'Yes'\n",
        "df.loc[df['Diabetes'] == 3, 'Diabetes'] = 'No'"
      ],
      "execution_count": null,
      "outputs": []
    },
    {
      "cell_type": "markdown",
      "metadata": {
        "id": "SPWT2czSz26l"
      },
      "source": [
        "##### We have 16.13% Positive cases and 83.87% of Negative cases"
      ]
    },
    {
      "cell_type": "code",
      "metadata": {
        "colab": {
          "base_uri": "https://localhost:8080/",
          "height": 285
        },
        "id": "5u5XxSbiOU44",
        "outputId": "283fedba-c32d-4ada-c895-2a5b1e9e0ad9"
      },
      "source": [
        "sns.countplot(x = df['Diabetes'], data=df, palette=['#DBDADB', '#C12E14'])\n",
        "plt.show()"
      ],
      "execution_count": null,
      "outputs": [
        {
          "output_type": "display_data",
          "data": {
            "image/png": "[encoded data removed]",
            "text/plain": [
              "<Figure size 432x288 with 1 Axes>"
            ]
          },
          "metadata": {
            "tags": []
          }
        }
      ]
    },
    {
      "cell_type": "markdown",
      "metadata": {
        "id": "VmkRaJn2OU44"
      },
      "source": [
        "#### Variable average sleeping time in 24 hours"
      ]
    },
    {
      "cell_type": "code",
      "metadata": {
        "id": "wLQXucPROU45"
      },
      "source": [
        "df['Sleep'] = pd.cut(df['SleepTime'], bins=[0,6,9,24], labels = ['NotEnough', 'Normal', 'OverSleep'])"
      ],
      "execution_count": null,
      "outputs": []
    },
    {
      "cell_type": "code",
      "metadata": {
        "colab": {
          "base_uri": "https://localhost:8080/",
          "height": 141
        },
        "id": "VTUbXz8oOU46",
        "outputId": "c9ec7daa-a3bd-4d7a-d469-8063008720f9"
      },
      "source": [
        "tab = pd.crosstab(df['Diabetes'],df['Sleep'])\n",
        "tab"
      ],
      "execution_count": null,
      "outputs": [
        {
          "output_type": "execute_result",
          "data": {
            "text/html": [
              "<div>\n",
              "<style scoped>\n",
              "    .dataframe tbody tr th:only-of-type {\n",
              "        vertical-align: middle;\n",
              "    }\n",
              "\n",
              "    .dataframe tbody tr th {\n",
              "        vertical-align: top;\n",
              "    }\n",
              "\n",
              "    .dataframe thead th {\n",
              "        text-align: right;\n",
              "    }\n",
              "</style>\n",
              "<table border=\"1\" class=\"dataframe\">\n",
              "  <thead>\n",
              "    <tr style=\"text-align: right;\">\n",
              "      <th>Sleep</th>\n",
              "      <th>NotEnough</th>\n",
              "      <th>Normal</th>\n",
              "      <th>OverSleep</th>\n",
              "    </tr>\n",
              "    <tr>\n",
              "      <th>Diabetes</th>\n",
              "      <th></th>\n",
              "      <th></th>\n",
              "      <th></th>\n",
              "    </tr>\n",
              "  </thead>\n",
              "  <tbody>\n",
              "    <tr>\n",
              "      <th>No</th>\n",
              "      <td>63856</td>\n",
              "      <td>136854</td>\n",
              "      <td>6194</td>\n",
              "    </tr>\n",
              "    <tr>\n",
              "      <th>Yes</th>\n",
              "      <td>14256</td>\n",
              "      <td>23054</td>\n",
              "      <td>2473</td>\n",
              "    </tr>\n",
              "  </tbody>\n",
              "</table>\n",
              "</div>"
            ],
            "text/plain": [
              "Sleep     NotEnough  Normal  OverSleep\n",
              "Diabetes                              \n",
              "No            63856  136854       6194\n",
              "Yes           14256   23054       2473"
            ]
          },
          "metadata": {
            "tags": []
          },
          "execution_count": 11
        }
      ]
    },
    {
      "cell_type": "code",
      "metadata": {
        "id": "GwQffxkeRaGE"
      },
      "source": [
        "oddS1, pvalueS1 = stats.fisher_exact([[14256, 23054], [63856, 136854]])\n",
        "oddS2, pvalueS2 = stats.fisher_exact([[2473, 23054], [6194, 136854]])"
      ],
      "execution_count": null,
      "outputs": []
    },
    {
      "cell_type": "code",
      "metadata": {
        "colab": {
          "base_uri": "https://localhost:8080/"
        },
        "id": "_8SS4phitL1B",
        "outputId": "033faaf8-c406-44d3-ad17-0dc9e79f0582"
      },
      "source": [
        "print('oddS1=%.3f, pvalueS1=%.3f, oddS2=%.3f, pvalueS2=%.3f' % (oddS1, pvalueS1, oddS2, pvalueS2))"
      ],
      "execution_count": null,
      "outputs": [
        {
          "output_type": "stream",
          "text": [
            "oddS1=1.325, pvalueS1=0.000, oddS2=2.370, pvalueS2=0.000\n"
          ],
          "name": "stdout"
        }
      ]
    },
    {
      "cell_type": "markdown",
      "metadata": {
        "id": "Y2nh1ayAx8oZ"
      },
      "source": [
        "##### Interpreting the odds ratio and p-values\n",
        "- The odds of type 2 Diabetes are 1.325 times higher in the NotEnough sleeper (6 hour or less) than compared to a Normal sleeper (7 to 9 hours).\n",
        "- The odds of type 2 Diabetes are 2.37 times higher in Over sleeper (10 or more hours) than  compared to a Normal sleeper.\n",
        "- All p-values are asignificant level 0.05."
      ]
    },
    {
      "cell_type": "code",
      "metadata": {
        "colab": {
          "base_uri": "https://localhost:8080/",
          "height": 285
        },
        "id": "jeDEHMS8OU4_",
        "outputId": "f48294cb-6b0d-415a-fc86-75235ddaac2c"
      },
      "source": [
        "sns.histplot(data=df, x=\"Sleep\", hue=\"Diabetes\", multiple=\"stack\", palette=['#DBDADB', '#C12E14'])\n",
        "plt.show()"
      ],
      "execution_count": null,
      "outputs": [
        {
          "output_type": "display_data",
          "data": {
            "image/png": "[encoded data removed]",
            "text/plain": [
              "<Figure size 432x288 with 1 Axes>"
            ]
          },
          "metadata": {
            "tags": []
          }
        }
      ]
    },
    {
      "cell_type": "markdown",
      "metadata": {
        "id": "DAtl2OVGOU5A"
      },
      "source": [
        "#### Variable age group of the subject"
      ]
    },
    {
      "cell_type": "code",
      "metadata": {
        "id": "7yIxVE_5OU5A"
      },
      "source": [
        "df['AgeGrp'] = pd.cut(df['AgeGrp'], [2, 4, 6, 8, 10, 12, 13], labels = ['Thirties', 'Fourties', 'Fifties','Sixties', 'Seventies', 'Eighties & up']) "
      ],
      "execution_count": null,
      "outputs": []
    },
    {
      "cell_type": "code",
      "metadata": {
        "colab": {
          "base_uri": "https://localhost:8080/",
          "height": 141
        },
        "id": "ZdxCgy2gOU5A",
        "outputId": "32f5125b-bfec-4846-a02b-5944e1a09519"
      },
      "source": [
        "agr = pd.crosstab(df['Diabetes'],df['AgeGrp'])\n",
        "agr"
      ],
      "execution_count": null,
      "outputs": [
        {
          "output_type": "execute_result",
          "data": {
            "text/html": [
              "<div>\n",
              "<style scoped>\n",
              "    .dataframe tbody tr th:only-of-type {\n",
              "        vertical-align: middle;\n",
              "    }\n",
              "\n",
              "    .dataframe tbody tr th {\n",
              "        vertical-align: top;\n",
              "    }\n",
              "\n",
              "    .dataframe thead th {\n",
              "        text-align: right;\n",
              "    }\n",
              "</style>\n",
              "<table border=\"1\" class=\"dataframe\">\n",
              "  <thead>\n",
              "    <tr style=\"text-align: right;\">\n",
              "      <th>AgeGrp</th>\n",
              "      <th>Thirties</th>\n",
              "      <th>Fourties</th>\n",
              "      <th>Fifties</th>\n",
              "      <th>Sixties</th>\n",
              "      <th>Seventies</th>\n",
              "      <th>Eighties &amp; up</th>\n",
              "    </tr>\n",
              "    <tr>\n",
              "      <th>Diabetes</th>\n",
              "      <th></th>\n",
              "      <th></th>\n",
              "      <th></th>\n",
              "      <th></th>\n",
              "      <th></th>\n",
              "      <th></th>\n",
              "    </tr>\n",
              "  </thead>\n",
              "  <tbody>\n",
              "    <tr>\n",
              "      <th>No</th>\n",
              "      <td>17971</td>\n",
              "      <td>36593</td>\n",
              "      <td>47940</td>\n",
              "      <td>53618</td>\n",
              "      <td>35005</td>\n",
              "      <td>15777</td>\n",
              "    </tr>\n",
              "    <tr>\n",
              "      <th>Yes</th>\n",
              "      <td>783</td>\n",
              "      <td>3411</td>\n",
              "      <td>7955</td>\n",
              "      <td>13069</td>\n",
              "      <td>10667</td>\n",
              "      <td>3898</td>\n",
              "    </tr>\n",
              "  </tbody>\n",
              "</table>\n",
              "</div>"
            ],
            "text/plain": [
              "AgeGrp    Thirties  Fourties  Fifties  Sixties  Seventies  Eighties & up\n",
              "Diabetes                                                                \n",
              "No           17971     36593    47940    53618      35005          15777\n",
              "Yes            783      3411     7955    13069      10667           3898"
            ]
          },
          "metadata": {
            "tags": []
          },
          "execution_count": 15
        }
      ]
    },
    {
      "cell_type": "code",
      "metadata": {
        "id": "mNhiUknYfogI"
      },
      "source": [
        "oddA1, pvalueA1 = stats.fisher_exact([[3411, 783], [36593, 17971]])\n",
        "oddA2, pvalueA2 = stats.fisher_exact([[7955, 783], [47940, 17971]])\n",
        "oddA3, pvalueA3 = stats.fisher_exact([[13069, 783], [53618, 17971]])\n",
        "oddA4, pvalueA4 = stats.fisher_exact([[10667, 783], [35005, 17971]])\n",
        "oddA5, pvalueA5 = stats.fisher_exact([[3898, 783], [15777, 17971]])"
      ],
      "execution_count": null,
      "outputs": []
    },
    {
      "cell_type": "code",
      "metadata": {
        "colab": {
          "base_uri": "https://localhost:8080/"
        },
        "id": "sticLg4ghhoj",
        "outputId": "5f05527f-4ee4-4af1-fadd-6370530eac51"
      },
      "source": [
        "print('oddA1=%.3f, pvalueA1=%.3f, oddA2=%.3f, pvalueA2=%.3f, oddA3=%.3f, pvalueA3=%.3f, oddA4=%.3f, pvalueA4=%.3f, oddA5=%.3f, pvalue=%.3f'\n",
        " % (oddA1, pvalueA1, oddA2, pvalueA2, oddA3, pvalueA3, oddA4, pvalueA4, oddA5, pvalueA5))"
      ],
      "execution_count": null,
      "outputs": [
        {
          "output_type": "stream",
          "text": [
            "oddA1=2.139, pvalueA1=0.000, oddA2=3.808, pvalueA2=0.000, oddA3=5.594, pvalueA3=0.000, oddA4=6.994, pvalueA4=0.000, oddA5=5.671, pvalue=0.000\n"
          ],
          "name": "stdout"
        }
      ]
    },
    {
      "cell_type": "markdown",
      "metadata": {
        "id": "MY_v7KNxjZ2n"
      },
      "source": [
        "##### Interpreting the odds ratio and p-values \n",
        "- The odds of Type 2 Diabetes are 2.139 times higher in the Fourties  than in the Thirties.\n",
        "- The odds of Type 2 Diabetes are 3.808 times higher in the Fifties  than in the Thirties.\n",
        "- The odds of Type 2 Diabetes are 5.594 times higher in the Sixtties  than in the Thirties.\n",
        "- The odds of Type 2 Diabetes are 6.994 times higher in the Seventies  than in the Thirties.\n",
        "- The odds of Type 2 Diabetes are 5.671 times higher in the Eighties & Up  than in the Thirties.\n",
        "\n",
        "- All p-values are significant."
      ]
    },
    {
      "cell_type": "code",
      "metadata": {
        "colab": {
          "base_uri": "https://localhost:8080/",
          "height": 289
        },
        "id": "fzzxb98TOU5B",
        "outputId": "eda2252b-04a9-488a-f04f-b27baae57088"
      },
      "source": [
        "sns.histplot(data=df, x=\"AgeGrp\", hue=\"Diabetes\", multiple=\"stack\", palette=['#DBDADB', '#C12E14'])\n",
        "plt.show()"
      ],
      "execution_count": null,
      "outputs": [
        {
          "output_type": "display_data",
          "data": {
            "image/png": "[encoded data removed]",
            "text/plain": [
              "<Figure size 432x288 with 1 Axes>"
            ]
          },
          "metadata": {
            "tags": []
          }
        }
      ]
    },
    {
      "cell_type": "markdown",
      "metadata": {
        "id": "O9PAaS7ROU5B"
      },
      "source": [
        "#### Variable asking if the subject has health coverage"
      ]
    },
    {
      "cell_type": "code",
      "metadata": {
        "id": "yJatt5OTOU5C"
      },
      "source": [
        "df['Insurance'] = pd.cut(df['Insurance'], [0, 1, 2], labels= ['Coverage', 'NoCoverage'])"
      ],
      "execution_count": null,
      "outputs": []
    },
    {
      "cell_type": "code",
      "metadata": {
        "colab": {
          "base_uri": "https://localhost:8080/",
          "height": 141
        },
        "id": "Rkhv9mvPOU5C",
        "outputId": "a8683b1e-6f08-4913-95dd-1ce0a312b415"
      },
      "source": [
        "Dlr = pd.crosstab(df['Diabetes'],df['Insurance'])\n",
        "Dlr"
      ],
      "execution_count": null,
      "outputs": [
        {
          "output_type": "execute_result",
          "data": {
            "text/html": [
              "<div>\n",
              "<style scoped>\n",
              "    .dataframe tbody tr th:only-of-type {\n",
              "        vertical-align: middle;\n",
              "    }\n",
              "\n",
              "    .dataframe tbody tr th {\n",
              "        vertical-align: top;\n",
              "    }\n",
              "\n",
              "    .dataframe thead th {\n",
              "        text-align: right;\n",
              "    }\n",
              "</style>\n",
              "<table border=\"1\" class=\"dataframe\">\n",
              "  <thead>\n",
              "    <tr style=\"text-align: right;\">\n",
              "      <th>Insurance</th>\n",
              "      <th>Coverage</th>\n",
              "      <th>NoCoverage</th>\n",
              "    </tr>\n",
              "    <tr>\n",
              "      <th>Diabetes</th>\n",
              "      <th></th>\n",
              "      <th></th>\n",
              "    </tr>\n",
              "  </thead>\n",
              "  <tbody>\n",
              "    <tr>\n",
              "      <th>No</th>\n",
              "      <td>194220</td>\n",
              "      <td>12684</td>\n",
              "    </tr>\n",
              "    <tr>\n",
              "      <th>Yes</th>\n",
              "      <td>38078</td>\n",
              "      <td>1705</td>\n",
              "    </tr>\n",
              "  </tbody>\n",
              "</table>\n",
              "</div>"
            ],
            "text/plain": [
              "Insurance  Coverage  NoCoverage\n",
              "Diabetes                       \n",
              "No           194220       12684\n",
              "Yes           38078        1705"
            ]
          },
          "metadata": {
            "tags": []
          },
          "execution_count": 19
        }
      ]
    },
    {
      "cell_type": "code",
      "metadata": {
        "colab": {
          "base_uri": "https://localhost:8080/"
        },
        "id": "4IQCk46SOU5D",
        "outputId": "cf8eab91-f230-4120-f047-49ee05343ba4"
      },
      "source": [
        "oddIns, pvalueIns = stats.fisher_exact([[38078, 1705], [194220, 12684]])\n",
        "print('oddIns=%.3f, pvalueIns=%.3f' % (oddIns, pvalueIns))"
      ],
      "execution_count": null,
      "outputs": [
        {
          "output_type": "stream",
          "text": [
            "oddIns=1.459, pvalueIns=0.000\n"
          ],
          "name": "stdout"
        }
      ]
    },
    {
      "cell_type": "markdown",
      "metadata": {
        "id": "lt9Yngmrz26q"
      },
      "source": [
        "##### The odds of Type 2 Diabetes are 1.459 times are higher in people with coverage than people without coverage and the difference is signicant because p-value is less than 0.05"
      ]
    },
    {
      "cell_type": "code",
      "metadata": {
        "colab": {
          "base_uri": "https://localhost:8080/",
          "height": 285
        },
        "id": "VRn6NQ4dOU5E",
        "outputId": "5c1414c3-12b9-41ce-d610-963fe3ce5516"
      },
      "source": [
        "sns.histplot(data=df, x=\"Insurance\", hue=\"Diabetes\", multiple=\"stack\", palette=['#DBDADB', '#C12E14'])\n",
        "plt.show()"
      ],
      "execution_count": null,
      "outputs": [
        {
          "output_type": "display_data",
          "data": {
            "image/png": "[encoded data removed]",
            "text/plain": [
              "<Figure size 432x288 with 1 Axes>"
            ]
          },
          "metadata": {
            "tags": []
          }
        }
      ]
    },
    {
      "cell_type": "markdown",
      "metadata": {
        "id": "7Ydy1I5zOU5E"
      },
      "source": [
        "#### Variable how long since you have a routine check up"
      ]
    },
    {
      "cell_type": "code",
      "metadata": {
        "id": "cPg8V8d7OU5F"
      },
      "source": [
        "df['LastVCat'] = pd.cut(df['TimeLastVDr'], bins = [0, 1, 2, 9], labels = ['Within a year', 'Within 2 years', 'Within 3 & up'])"
      ],
      "execution_count": null,
      "outputs": []
    },
    {
      "cell_type": "code",
      "metadata": {
        "colab": {
          "base_uri": "https://localhost:8080/",
          "height": 141
        },
        "id": "YxjYOlxnOU5F",
        "outputId": "75a3e5a2-3d16-4b44-cea9-d74986fb23f3"
      },
      "source": [
        "pd.crosstab(df['Diabetes'],df['LastVCat'])"
      ],
      "execution_count": null,
      "outputs": [
        {
          "output_type": "execute_result",
          "data": {
            "text/html": [
              "<div>\n",
              "<style scoped>\n",
              "    .dataframe tbody tr th:only-of-type {\n",
              "        vertical-align: middle;\n",
              "    }\n",
              "\n",
              "    .dataframe tbody tr th {\n",
              "        vertical-align: top;\n",
              "    }\n",
              "\n",
              "    .dataframe thead th {\n",
              "        text-align: right;\n",
              "    }\n",
              "</style>\n",
              "<table border=\"1\" class=\"dataframe\">\n",
              "  <thead>\n",
              "    <tr style=\"text-align: right;\">\n",
              "      <th>LastVCat</th>\n",
              "      <th>Within a year</th>\n",
              "      <th>Within 2 years</th>\n",
              "      <th>Within 3 &amp; up</th>\n",
              "    </tr>\n",
              "    <tr>\n",
              "      <th>Diabetes</th>\n",
              "      <th></th>\n",
              "      <th></th>\n",
              "      <th></th>\n",
              "    </tr>\n",
              "  </thead>\n",
              "  <tbody>\n",
              "    <tr>\n",
              "      <th>No</th>\n",
              "      <td>167477</td>\n",
              "      <td>20153</td>\n",
              "      <td>19274</td>\n",
              "    </tr>\n",
              "    <tr>\n",
              "      <th>Yes</th>\n",
              "      <td>37893</td>\n",
              "      <td>1186</td>\n",
              "      <td>704</td>\n",
              "    </tr>\n",
              "  </tbody>\n",
              "</table>\n",
              "</div>"
            ],
            "text/plain": [
              "LastVCat  Within a year  Within 2 years  Within 3 & up\n",
              "Diabetes                                              \n",
              "No               167477           20153          19274\n",
              "Yes               37893            1186            704"
            ]
          },
          "metadata": {
            "tags": []
          },
          "execution_count": 22
        }
      ]
    },
    {
      "cell_type": "code",
      "metadata": {
        "colab": {
          "base_uri": "https://localhost:8080/"
        },
        "id": "vPeAg_KcmicT",
        "outputId": "1c670d06-57eb-4c49-9757-3b4fb76e2706"
      },
      "source": [
        "oddCk1, pvalueCk1 = stats.fisher_exact([[37893, 704], [167477, 19274]])\n",
        "oddCk2, pvalueCk2 = stats.fisher_exact([[1186, 704], [20153, 19274]])\n",
        "print('oddCk1=%.3f, pvalueCk1=%.3f, oddCk2=%.3f, pvalueCk2=%.3f' % (oddCk1, pvalueCk1, oddCk2, pvalueCk2))"
      ],
      "execution_count": null,
      "outputs": [
        {
          "output_type": "stream",
          "text": [
            "oddCk1=6.194, pvalueCk1=0.000, oddCk2=1.611, pvalueCk2=0.000\n"
          ],
          "name": "stdout"
        }
      ]
    },
    {
      "cell_type": "markdown",
      "metadata": {
        "id": "RybAjvtsz26s"
      },
      "source": [
        "##### Interpreting the odds ratio and p-values\n",
        "- The odds of Type 2 Diabetes are 6.194 times higher in people who had a routine checkup within a year than people within 3 years and up.\n",
        "- The odds of Type 2 Diabetes are 1.611 times higher in people who had a routine checkup between 1 and 2 years than people within 3 years and up.\n",
        "- All p-values are significant. \n",
        "\n",
        "##### We can constate that the longer the time since you have a routine check up, the lower are the odds of Type 2 Diabetes."
      ]
    },
    {
      "cell_type": "code",
      "metadata": {
        "colab": {
          "base_uri": "https://localhost:8080/",
          "height": 285
        },
        "id": "HQmxKsRVOU5G",
        "outputId": "d9fbded1-0259-4f7f-c2c4-fbbaa822426b"
      },
      "source": [
        "sns.histplot(data=df, x=\"LastVCat\", hue=\"Diabetes\", multiple=\"stack\", palette=['#DBDADB', '#C12E14'])\n",
        "plt.show()"
      ],
      "execution_count": null,
      "outputs": [
        {
          "output_type": "display_data",
          "data": {
            "image/png": "[encoded data removed]",
            "text/plain": [
              "<Figure size 432x288 with 1 Axes>"
            ]
          },
          "metadata": {
            "tags": []
          }
        }
      ]
    },
    {
      "cell_type": "markdown",
      "metadata": {
        "id": "GbE-GacyOU5G"
      },
      "source": [
        "#### Variable because of a physical, mental, or emotional condition, do you have serious difficulty concentrating, remembering, or making decisions"
      ]
    },
    {
      "cell_type": "code",
      "metadata": {
        "id": "w951P9BQOU5G"
      },
      "source": [
        "df['Focused'] = pd.cut(df['Focused'], bins = [0, 1, 2], labels = ['Yes', 'No'])"
      ],
      "execution_count": null,
      "outputs": []
    },
    {
      "cell_type": "code",
      "metadata": {
        "colab": {
          "base_uri": "https://localhost:8080/",
          "height": 141
        },
        "id": "7TCUXsfQOU5H",
        "outputId": "5510b611-7875-4e55-d70e-2e1324bfa23c"
      },
      "source": [
        "pd.crosstab(df['Diabetes'], df['Focused'])"
      ],
      "execution_count": null,
      "outputs": [
        {
          "output_type": "execute_result",
          "data": {
            "text/html": [
              "<div>\n",
              "<style scoped>\n",
              "    .dataframe tbody tr th:only-of-type {\n",
              "        vertical-align: middle;\n",
              "    }\n",
              "\n",
              "    .dataframe tbody tr th {\n",
              "        vertical-align: top;\n",
              "    }\n",
              "\n",
              "    .dataframe thead th {\n",
              "        text-align: right;\n",
              "    }\n",
              "</style>\n",
              "<table border=\"1\" class=\"dataframe\">\n",
              "  <thead>\n",
              "    <tr style=\"text-align: right;\">\n",
              "      <th>Focused</th>\n",
              "      <th>Yes</th>\n",
              "      <th>No</th>\n",
              "    </tr>\n",
              "    <tr>\n",
              "      <th>Diabetes</th>\n",
              "      <th></th>\n",
              "      <th></th>\n",
              "    </tr>\n",
              "  </thead>\n",
              "  <tbody>\n",
              "    <tr>\n",
              "      <th>No</th>\n",
              "      <td>16815</td>\n",
              "      <td>190089</td>\n",
              "    </tr>\n",
              "    <tr>\n",
              "      <th>Yes</th>\n",
              "      <td>6133</td>\n",
              "      <td>33650</td>\n",
              "    </tr>\n",
              "  </tbody>\n",
              "</table>\n",
              "</div>"
            ],
            "text/plain": [
              "Focused     Yes      No\n",
              "Diabetes               \n",
              "No        16815  190089\n",
              "Yes        6133   33650"
            ]
          },
          "metadata": {
            "tags": []
          },
          "execution_count": 25
        }
      ]
    },
    {
      "cell_type": "code",
      "metadata": {
        "colab": {
          "base_uri": "https://localhost:8080/"
        },
        "id": "xsXiAUFJFNcB",
        "outputId": "580195d2-e891-46be-b711-0a959b313e45"
      },
      "source": [
        "oddF, pvalueF = stats.fisher_exact([[6133, 33650], [16815, 190089]])\n",
        "print('oddF=%.3f, pvalueF=%.3f' % (oddF, pvalueF))"
      ],
      "execution_count": null,
      "outputs": [
        {
          "output_type": "stream",
          "text": [
            "oddF=2.060, pvalueF=0.000\n"
          ],
          "name": "stdout"
        }
      ]
    },
    {
      "cell_type": "markdown",
      "metadata": {
        "id": "F9Lfryitz26u"
      },
      "source": [
        "##### The odds of type 2 Diabetes are 2.06 times higher in people who have serious difficulty concentrating, remembering, or making decisions than people without it.  "
      ]
    },
    {
      "cell_type": "code",
      "metadata": {
        "colab": {
          "base_uri": "https://localhost:8080/",
          "height": 285
        },
        "id": "Ybt77_8sOU5H",
        "outputId": "2dcc4eff-3159-4c03-bb59-1cd9b261de63"
      },
      "source": [
        "sns.histplot(data = df, x = 'Focused', hue = 'Diabetes', multiple=\"stack\", palette=['#DBDADB', '#C12E14'])\n",
        "plt.show()"
      ],
      "execution_count": null,
      "outputs": [
        {
          "output_type": "display_data",
          "data": {
            "image/png": "[encoded data removed]",
            "text/plain": [
              "<Figure size 432x288 with 1 Axes>"
            ]
          },
          "metadata": {
            "tags": []
          }
        }
      ]
    },
    {
      "cell_type": "markdown",
      "metadata": {
        "id": "FtKckFRMOU5I"
      },
      "source": [
        "#### Variable now thinking about your physical health, which includes physical illness and injury, for how many days during the past 30 days was your physical health not good?"
      ]
    },
    {
      "cell_type": "code",
      "metadata": {
        "id": "bIKQ7dYJOU5I"
      },
      "source": [
        "df['PhysicalHealth'] = pd.cut(df['PhysicalHealth'], bins = [0, 1, 2, 3], labels = ['0 Bad days', '1-13 Bad days', '14+ Bad days'])"
      ],
      "execution_count": null,
      "outputs": []
    },
    {
      "cell_type": "code",
      "metadata": {
        "colab": {
          "base_uri": "https://localhost:8080/",
          "height": 141
        },
        "id": "j-8_mn6QOU5J",
        "outputId": "6cc6b030-0bdd-4ae7-9f07-3b5e8ab85e13"
      },
      "source": [
        "pd.crosstab(df['Diabetes'], df['PhysicalHealth'])"
      ],
      "execution_count": null,
      "outputs": [
        {
          "output_type": "execute_result",
          "data": {
            "text/html": [
              "<div>\n",
              "<style scoped>\n",
              "    .dataframe tbody tr th:only-of-type {\n",
              "        vertical-align: middle;\n",
              "    }\n",
              "\n",
              "    .dataframe tbody tr th {\n",
              "        vertical-align: top;\n",
              "    }\n",
              "\n",
              "    .dataframe thead th {\n",
              "        text-align: right;\n",
              "    }\n",
              "</style>\n",
              "<table border=\"1\" class=\"dataframe\">\n",
              "  <thead>\n",
              "    <tr style=\"text-align: right;\">\n",
              "      <th>PhysicalHealth</th>\n",
              "      <th>0 Bad days</th>\n",
              "      <th>1-13 Bad days</th>\n",
              "      <th>14+ Bad days</th>\n",
              "    </tr>\n",
              "    <tr>\n",
              "      <th>Diabetes</th>\n",
              "      <th></th>\n",
              "      <th></th>\n",
              "      <th></th>\n",
              "    </tr>\n",
              "  </thead>\n",
              "  <tbody>\n",
              "    <tr>\n",
              "      <th>No</th>\n",
              "      <td>135702</td>\n",
              "      <td>46613</td>\n",
              "      <td>24589</td>\n",
              "    </tr>\n",
              "    <tr>\n",
              "      <th>Yes</th>\n",
              "      <td>18919</td>\n",
              "      <td>10288</td>\n",
              "      <td>10576</td>\n",
              "    </tr>\n",
              "  </tbody>\n",
              "</table>\n",
              "</div>"
            ],
            "text/plain": [
              "PhysicalHealth  0 Bad days  1-13 Bad days  14+ Bad days\n",
              "Diabetes                                               \n",
              "No                  135702          46613         24589\n",
              "Yes                  18919          10288         10576"
            ]
          },
          "metadata": {
            "tags": []
          },
          "execution_count": 28
        }
      ]
    },
    {
      "cell_type": "code",
      "metadata": {
        "colab": {
          "base_uri": "https://localhost:8080/"
        },
        "id": "0V7mCe4sF6vU",
        "outputId": "d63627db-4f24-4b19-be2c-060b11faa378"
      },
      "source": [
        "oddPh1, pvaluePh1 = stats.fisher_exact([[10288, 18919], [46613, 135702]])\n",
        "oddPh2, pvaluePh2 = stats.fisher_exact([[10576, 18919], [24589, 135702]])\n",
        "print('oddPh1=%.3f, pvaluePh1=%.3f, oddPh2=%.3f, pvaluePh2=%.3f' % (oddPh1, pvaluePh1, oddPh2, pvaluePh2))"
      ],
      "execution_count": null,
      "outputs": [
        {
          "output_type": "stream",
          "text": [
            "oddPh1=1.583, pvaluePh1=0.000, oddPh2=3.085, pvaluePh2=0.000\n"
          ],
          "name": "stdout"
        }
      ]
    },
    {
      "cell_type": "markdown",
      "metadata": {
        "id": "rvPqNbbaz26w"
      },
      "source": [
        "##### Interpreting the odds ratio and p-values\n",
        "- The odds of Type 2 Diabetes are 1.583 times higher in people who have 1 to 13 bad days of physical health than people who had zero bad day.\n",
        "- The odds of Type 2 Diabetes are 3.085 times higher in people who have 14 or more bad days of physical health than people who had zero bad day.\n",
        "- The p-values are significant.\n",
        "\n",
        "##### What we can get from above is that the higher the number of bad physical health days, the higher are the odds of type 2 Dibetes."
      ]
    },
    {
      "cell_type": "code",
      "metadata": {
        "colab": {
          "base_uri": "https://localhost:8080/",
          "height": 286
        },
        "id": "LCgHiLVwOU5J",
        "outputId": "9242c29f-6e34-4c32-909d-5b3062bef879"
      },
      "source": [
        "sns.histplot(data = df, x = 'PhysicalHealth', hue = 'Diabetes', multiple=\"stack\", palette=['#DBDADB', '#C12E14'])\n",
        "plt.show()"
      ],
      "execution_count": null,
      "outputs": [
        {
          "output_type": "display_data",
          "data": {
            "image/png": "[encoded data removed]",
            "text/plain": [
              "<Figure size 432x288 with 1 Axes>"
            ]
          },
          "metadata": {
            "tags": []
          }
        }
      ]
    },
    {
      "cell_type": "markdown",
      "metadata": {
        "id": "aLD5oelcOU5K"
      },
      "source": [
        "#### Variable gender"
      ]
    },
    {
      "cell_type": "code",
      "metadata": {
        "id": "AX6MptNFOU5K"
      },
      "source": [
        "df['Sex'] = pd.cut(df['Sex'], [0, 1, 2], labels = ['Male', 'Female'])"
      ],
      "execution_count": null,
      "outputs": []
    },
    {
      "cell_type": "code",
      "metadata": {
        "colab": {
          "base_uri": "https://localhost:8080/",
          "height": 141
        },
        "id": "FGLjgOexOU5L",
        "outputId": "698d3a52-5b67-4641-f191-57a9077e5fc1"
      },
      "source": [
        "pd.crosstab(df['Diabetes'], df['Sex'])"
      ],
      "execution_count": null,
      "outputs": [
        {
          "output_type": "execute_result",
          "data": {
            "text/html": [
              "<div>\n",
              "<style scoped>\n",
              "    .dataframe tbody tr th:only-of-type {\n",
              "        vertical-align: middle;\n",
              "    }\n",
              "\n",
              "    .dataframe tbody tr th {\n",
              "        vertical-align: top;\n",
              "    }\n",
              "\n",
              "    .dataframe thead th {\n",
              "        text-align: right;\n",
              "    }\n",
              "</style>\n",
              "<table border=\"1\" class=\"dataframe\">\n",
              "  <thead>\n",
              "    <tr style=\"text-align: right;\">\n",
              "      <th>Sex</th>\n",
              "      <th>Male</th>\n",
              "      <th>Female</th>\n",
              "    </tr>\n",
              "    <tr>\n",
              "      <th>Diabetes</th>\n",
              "      <th></th>\n",
              "      <th></th>\n",
              "    </tr>\n",
              "  </thead>\n",
              "  <tbody>\n",
              "    <tr>\n",
              "      <th>No</th>\n",
              "      <td>96222</td>\n",
              "      <td>110682</td>\n",
              "    </tr>\n",
              "    <tr>\n",
              "      <th>Yes</th>\n",
              "      <td>20289</td>\n",
              "      <td>19494</td>\n",
              "    </tr>\n",
              "  </tbody>\n",
              "</table>\n",
              "</div>"
            ],
            "text/plain": [
              "Sex        Male  Female\n",
              "Diabetes               \n",
              "No        96222  110682\n",
              "Yes       20289   19494"
            ]
          },
          "metadata": {
            "tags": []
          },
          "execution_count": 31
        }
      ]
    },
    {
      "cell_type": "code",
      "metadata": {
        "colab": {
          "base_uri": "https://localhost:8080/"
        },
        "id": "3BqY8okRHUCm",
        "outputId": "25b592fd-9c28-471c-c65c-7ae0f603ef4b"
      },
      "source": [
        "oddS, pvalueS = stats.fisher_exact([[20289, 19494], [96222, 110682]])\n",
        "print('oddS=%.3f, pvalueS=%.3f' % (oddS, pvalueS))"
      ],
      "execution_count": null,
      "outputs": [
        {
          "output_type": "stream",
          "text": [
            "oddS=1.197, pvalueS=0.000\n"
          ],
          "name": "stdout"
        }
      ]
    },
    {
      "cell_type": "markdown",
      "metadata": {
        "id": "UsXtXLwUz26y"
      },
      "source": [
        "##### The odds of Type 2 Diabetes are 1.197 times higher in Male than in Female."
      ]
    },
    {
      "cell_type": "code",
      "metadata": {
        "colab": {
          "base_uri": "https://localhost:8080/",
          "height": 285
        },
        "id": "Whz9wzrUOU5M",
        "outputId": "a27114be-543c-4243-e92a-9dde579dc162"
      },
      "source": [
        "sns.histplot(data = df, x = 'Sex', hue = 'Diabetes', multiple=\"stack\", palette=['#DBDADB', '#C12E14'])\n",
        "plt.show()"
      ],
      "execution_count": null,
      "outputs": [
        {
          "output_type": "display_data",
          "data": {
            "image/png": "[encoded data removed]",
            "text/plain": [
              "<Figure size 432x288 with 1 Axes>"
            ]
          },
          "metadata": {
            "tags": []
          }
        }
      ]
    },
    {
      "cell_type": "markdown",
      "metadata": {
        "id": "jNt_U_OmOU5M"
      },
      "source": [
        "#### Variable respondents that have ever reported having coronary heart disease (CHD) or myocardial infarction (MI)"
      ]
    },
    {
      "cell_type": "code",
      "metadata": {
        "id": "7uTZ12VDOU5N"
      },
      "source": [
        "df['CardioVasc'] = pd.cut(df['CardioVasc'], [0, 1, 2], labels = ['Yes', 'No'])"
      ],
      "execution_count": null,
      "outputs": []
    },
    {
      "cell_type": "code",
      "metadata": {
        "colab": {
          "base_uri": "https://localhost:8080/",
          "height": 141
        },
        "id": "RuXGNzrcOU5N",
        "outputId": "3e687385-96c6-4935-f252-41b7b40f9d38"
      },
      "source": [
        "pd.crosstab(df['Diabetes'], df['CardioVasc'])"
      ],
      "execution_count": null,
      "outputs": [
        {
          "output_type": "execute_result",
          "data": {
            "text/html": [
              "<div>\n",
              "<style scoped>\n",
              "    .dataframe tbody tr th:only-of-type {\n",
              "        vertical-align: middle;\n",
              "    }\n",
              "\n",
              "    .dataframe tbody tr th {\n",
              "        vertical-align: top;\n",
              "    }\n",
              "\n",
              "    .dataframe thead th {\n",
              "        text-align: right;\n",
              "    }\n",
              "</style>\n",
              "<table border=\"1\" class=\"dataframe\">\n",
              "  <thead>\n",
              "    <tr style=\"text-align: right;\">\n",
              "      <th>CardioVasc</th>\n",
              "      <th>Yes</th>\n",
              "      <th>No</th>\n",
              "    </tr>\n",
              "    <tr>\n",
              "      <th>Diabetes</th>\n",
              "      <th></th>\n",
              "      <th></th>\n",
              "    </tr>\n",
              "  </thead>\n",
              "  <tbody>\n",
              "    <tr>\n",
              "      <th>No</th>\n",
              "      <td>16938</td>\n",
              "      <td>189966</td>\n",
              "    </tr>\n",
              "    <tr>\n",
              "      <th>Yes</th>\n",
              "      <td>9099</td>\n",
              "      <td>30684</td>\n",
              "    </tr>\n",
              "  </tbody>\n",
              "</table>\n",
              "</div>"
            ],
            "text/plain": [
              "CardioVasc    Yes      No\n",
              "Diabetes                 \n",
              "No          16938  189966\n",
              "Yes          9099   30684"
            ]
          },
          "metadata": {
            "tags": []
          },
          "execution_count": 35
        }
      ]
    },
    {
      "cell_type": "code",
      "metadata": {
        "colab": {
          "base_uri": "https://localhost:8080/"
        },
        "id": "grF4-YANIFYB",
        "outputId": "3430f464-66da-4d7a-9ce0-0360ad855c98"
      },
      "source": [
        "oddCv, pvalueCv = stats.fisher_exact([[9099, 30684], [16938, 189966]])\n",
        "print('oddCv=%.3f, pvalueCv=%.3f' % (oddCv, pvalueCv))"
      ],
      "execution_count": null,
      "outputs": [
        {
          "output_type": "stream",
          "text": [
            "oddCv=3.326, pvalueCv=0.000\n"
          ],
          "name": "stdout"
        }
      ]
    },
    {
      "cell_type": "markdown",
      "metadata": {
        "id": "Zbtpst3Vz26z"
      },
      "source": [
        "##### The odds of Type 2 Diabetes are 3.326 times higher in people with cardiovascular disease than people without it."
      ]
    },
    {
      "cell_type": "code",
      "metadata": {
        "colab": {
          "base_uri": "https://localhost:8080/",
          "height": 285
        },
        "id": "IGfxbrkOOU5O",
        "outputId": "8b47895d-4600-47d1-8d2e-422083fe8e79"
      },
      "source": [
        "sns.histplot(data = df, x = 'CardioVasc', hue = 'Diabetes', multiple=\"stack\", palette=['#DBDADB', '#C12E14'])\n",
        "plt.show()"
      ],
      "execution_count": null,
      "outputs": [
        {
          "output_type": "display_data",
          "data": {
            "image/png": "[encoded data removed]",
            "text/plain": [
              "<Figure size 432x288 with 1 Axes>"
            ]
          },
          "metadata": {
            "tags": []
          }
        }
      ]
    },
    {
      "cell_type": "markdown",
      "metadata": {
        "id": "AUFXGIDIOU5O"
      },
      "source": [
        "#### Variable (Ever told) you have kidney disease?"
      ]
    },
    {
      "cell_type": "code",
      "metadata": {
        "id": "tTVLxBrnOU5P"
      },
      "source": [
        "df['KidneyDis'] = pd.cut(df['KidneyDis'], [0, 1, 2], labels = ['Yes', 'No'])"
      ],
      "execution_count": null,
      "outputs": []
    },
    {
      "cell_type": "code",
      "metadata": {
        "colab": {
          "base_uri": "https://localhost:8080/",
          "height": 141
        },
        "id": "j3jhixIHOU5P",
        "outputId": "53518ddd-96c2-438d-bfb6-4d430548ed9d"
      },
      "source": [
        "pd.crosstab(df['Diabetes'], df['KidneyDis'])"
      ],
      "execution_count": null,
      "outputs": [
        {
          "output_type": "execute_result",
          "data": {
            "text/html": [
              "<div>\n",
              "<style scoped>\n",
              "    .dataframe tbody tr th:only-of-type {\n",
              "        vertical-align: middle;\n",
              "    }\n",
              "\n",
              "    .dataframe tbody tr th {\n",
              "        vertical-align: top;\n",
              "    }\n",
              "\n",
              "    .dataframe thead th {\n",
              "        text-align: right;\n",
              "    }\n",
              "</style>\n",
              "<table border=\"1\" class=\"dataframe\">\n",
              "  <thead>\n",
              "    <tr style=\"text-align: right;\">\n",
              "      <th>KidneyDis</th>\n",
              "      <th>Yes</th>\n",
              "      <th>No</th>\n",
              "    </tr>\n",
              "    <tr>\n",
              "      <th>Diabetes</th>\n",
              "      <th></th>\n",
              "      <th></th>\n",
              "    </tr>\n",
              "  </thead>\n",
              "  <tbody>\n",
              "    <tr>\n",
              "      <th>No</th>\n",
              "      <td>6039</td>\n",
              "      <td>200865</td>\n",
              "    </tr>\n",
              "    <tr>\n",
              "      <th>Yes</th>\n",
              "      <td>4459</td>\n",
              "      <td>35324</td>\n",
              "    </tr>\n",
              "  </tbody>\n",
              "</table>\n",
              "</div>"
            ],
            "text/plain": [
              "KidneyDis   Yes      No\n",
              "Diabetes               \n",
              "No         6039  200865\n",
              "Yes        4459   35324"
            ]
          },
          "metadata": {
            "tags": []
          },
          "execution_count": 38
        }
      ]
    },
    {
      "cell_type": "code",
      "metadata": {
        "colab": {
          "base_uri": "https://localhost:8080/"
        },
        "id": "yJWAoVZZI2o-",
        "outputId": "9dea74df-721b-42f1-f6b6-8a79b0d88bc4"
      },
      "source": [
        "oddKd, pvalueKd = stats.fisher_exact([[4459, 35324], [6039, 200865]])\n",
        "print('oddKd=%.3f, pvalueKd=%.3f' % (oddKd, pvalueKd))"
      ],
      "execution_count": null,
      "outputs": [
        {
          "output_type": "stream",
          "text": [
            "oddKd=4.199, pvalueKd=0.000\n"
          ],
          "name": "stdout"
        }
      ]
    },
    {
      "cell_type": "markdown",
      "metadata": {
        "id": "LmSWIylWz260"
      },
      "source": [
        "##### The odds of Type 2 Diabetes are 4.199 times higher in people with kidney disease than people without it."
      ]
    },
    {
      "cell_type": "code",
      "metadata": {
        "colab": {
          "base_uri": "https://localhost:8080/",
          "height": 285
        },
        "id": "3Gj4vtDFOU5Q",
        "outputId": "23cf9fc2-2440-4f39-fe44-299657009a8c"
      },
      "source": [
        "sns.histplot(data = df, x = 'KidneyDis', hue = 'Diabetes', multiple=\"stack\", palette=['#DBDADB', '#C12E14'])\n",
        "plt.show()"
      ],
      "execution_count": null,
      "outputs": [
        {
          "output_type": "display_data",
          "data": {
            "image/png": "[encoded data removed]",
            "text/plain": [
              "<Figure size 432x288 with 1 Axes>"
            ]
          },
          "metadata": {
            "tags": []
          }
        }
      ]
    },
    {
      "cell_type": "markdown",
      "metadata": {
        "id": "ksAHDlP7OU5R"
      },
      "source": [
        "#### Variable income level"
      ]
    },
    {
      "cell_type": "code",
      "metadata": {
        "id": "o3lyKQ1wOU5R"
      },
      "source": [
        "df['Income'] = pd.cut(df['Income'], bins = [0,  2,  4, 5], labels = ['< $25000', '< $50000', '> $50000'])"
      ],
      "execution_count": null,
      "outputs": []
    },
    {
      "cell_type": "code",
      "metadata": {
        "colab": {
          "base_uri": "https://localhost:8080/",
          "height": 141
        },
        "id": "qkZQgC80OU5S",
        "outputId": "3220da7d-e22e-4d06-f4bc-73630ed6ce82"
      },
      "source": [
        "pd.crosstab(df['Diabetes'], df['Income'])"
      ],
      "execution_count": null,
      "outputs": [
        {
          "output_type": "execute_result",
          "data": {
            "text/html": [
              "<div>\n",
              "<style scoped>\n",
              "    .dataframe tbody tr th:only-of-type {\n",
              "        vertical-align: middle;\n",
              "    }\n",
              "\n",
              "    .dataframe tbody tr th {\n",
              "        vertical-align: top;\n",
              "    }\n",
              "\n",
              "    .dataframe thead th {\n",
              "        text-align: right;\n",
              "    }\n",
              "</style>\n",
              "<table border=\"1\" class=\"dataframe\">\n",
              "  <thead>\n",
              "    <tr style=\"text-align: right;\">\n",
              "      <th>Income</th>\n",
              "      <th>&lt; $25000</th>\n",
              "      <th>&lt; $50000</th>\n",
              "      <th>&gt; $50000</th>\n",
              "    </tr>\n",
              "    <tr>\n",
              "      <th>Diabetes</th>\n",
              "      <th></th>\n",
              "      <th></th>\n",
              "      <th></th>\n",
              "    </tr>\n",
              "  </thead>\n",
              "  <tbody>\n",
              "    <tr>\n",
              "      <th>No</th>\n",
              "      <td>41367</td>\n",
              "      <td>47196</td>\n",
              "      <td>118341</td>\n",
              "    </tr>\n",
              "    <tr>\n",
              "      <th>Yes</th>\n",
              "      <td>14156</td>\n",
              "      <td>10647</td>\n",
              "      <td>14980</td>\n",
              "    </tr>\n",
              "  </tbody>\n",
              "</table>\n",
              "</div>"
            ],
            "text/plain": [
              "Income    < $25000  < $50000  > $50000\n",
              "Diabetes                              \n",
              "No           41367     47196    118341\n",
              "Yes          14156     10647     14980"
            ]
          },
          "metadata": {
            "tags": []
          },
          "execution_count": 41
        }
      ]
    },
    {
      "cell_type": "code",
      "metadata": {
        "colab": {
          "base_uri": "https://localhost:8080/"
        },
        "id": "QgV0CvXbNMMQ",
        "outputId": "34213a44-5211-4658-929e-c0f5ccaf905f"
      },
      "source": [
        "oddInc1, pvalueInc1 = stats.fisher_exact([[14156, 14980], [41367, 118341]])\n",
        "oddInc2, pvalueInc2 = stats.fisher_exact([[10647, 14980], [47196, 118341]])\n",
        "print('oddInc1=%.3f, pvalueInc1=%.3f, oddInc2=%.3f, pvalueInc2=%.3f' % (oddInc1, pvalueInc1, oddInc2, pvalueInc2))"
      ],
      "execution_count": null,
      "outputs": [
        {
          "output_type": "stream",
          "text": [
            "oddInc1=2.703, pvalueInc1=0.000, oddInc2=1.782, pvalueInc2=0.000\n"
          ],
          "name": "stdout"
        }
      ]
    },
    {
      "cell_type": "markdown",
      "metadata": {
        "id": "Z9KitK6-z261"
      },
      "source": [
        "##### Interpreting the odds ratio and p-values\n",
        "* ###### The odds of Type 2 Diabetes are 2.703 times higher in people who have less than 25,000 income level than people who have more than 50,000 income level.\n",
        "* ###### The odds of Type 2 Diabetes are 1.782 times higher in people who have less than 50,000 income level than people who have more than 50,000 income level.\n",
        "* ###### All p-values are significant.\n",
        "\n",
        "##### We see above that the higher is the income, the lower are the odds of Type 2 Diabetes."
      ]
    },
    {
      "cell_type": "code",
      "metadata": {
        "colab": {
          "base_uri": "https://localhost:8080/",
          "height": 285
        },
        "id": "BYBG3mw4OU5S",
        "outputId": "57fc92b9-c869-47ae-d63d-17f0a0796cd9"
      },
      "source": [
        "sns.histplot(data = df, x = 'Income', hue = 'Diabetes', multiple=\"stack\", palette=['#DBDADB', '#C12E14'])\n",
        "plt.show()"
      ],
      "execution_count": null,
      "outputs": [
        {
          "output_type": "display_data",
          "data": {
            "image/png": "[encoded data removed]",
            "text/plain": [
              "<Figure size 432x288 with 1 Axes>"
            ]
          },
          "metadata": {
            "tags": []
          }
        }
      ]
    },
    {
      "cell_type": "markdown",
      "metadata": {
        "id": "fIMXZDxjOU5T"
      },
      "source": [
        "#### Variable Education level"
      ]
    },
    {
      "cell_type": "markdown",
      "metadata": {
        "id": "cn16BgQYz262"
      },
      "source": [
        "##### Note: I had four categories of Education levels, but after calculating the odds ratio I noticed that there is almost not difference between people who graduated high school or have a GED and people who have some college education but did not graduate, because of it I merge them."
      ]
    },
    {
      "cell_type": "code",
      "metadata": {
        "id": "d8gtPz1lOU5U"
      },
      "source": [
        "df['EducationLevel'] = pd.cut(df['EducationLevel'], bins = [0,  3, 5, 6], labels = ['No HS or GED', 'HS-GED or Some College', 'College Grad+'])"
      ],
      "execution_count": null,
      "outputs": []
    },
    {
      "cell_type": "code",
      "metadata": {
        "colab": {
          "base_uri": "https://localhost:8080/",
          "height": 141
        },
        "id": "-yoHco-oOU5U",
        "outputId": "1aab12b5-4595-4cc7-99e7-c92b8e654445"
      },
      "source": [
        "pd.crosstab(df['Diabetes'], df['EducationLevel'])"
      ],
      "execution_count": null,
      "outputs": [
        {
          "output_type": "execute_result",
          "data": {
            "text/html": [
              "<div>\n",
              "<style scoped>\n",
              "    .dataframe tbody tr th:only-of-type {\n",
              "        vertical-align: middle;\n",
              "    }\n",
              "\n",
              "    .dataframe tbody tr th {\n",
              "        vertical-align: top;\n",
              "    }\n",
              "\n",
              "    .dataframe thead th {\n",
              "        text-align: right;\n",
              "    }\n",
              "</style>\n",
              "<table border=\"1\" class=\"dataframe\">\n",
              "  <thead>\n",
              "    <tr style=\"text-align: right;\">\n",
              "      <th>EducationLevel</th>\n",
              "      <th>No HS or GED</th>\n",
              "      <th>HS-GED or Some College</th>\n",
              "      <th>College Grad+</th>\n",
              "    </tr>\n",
              "    <tr>\n",
              "      <th>Diabetes</th>\n",
              "      <th></th>\n",
              "      <th></th>\n",
              "      <th></th>\n",
              "    </tr>\n",
              "  </thead>\n",
              "  <tbody>\n",
              "    <tr>\n",
              "      <th>No</th>\n",
              "      <td>10567</td>\n",
              "      <td>105533</td>\n",
              "      <td>90804</td>\n",
              "    </tr>\n",
              "    <tr>\n",
              "      <th>Yes</th>\n",
              "      <td>3755</td>\n",
              "      <td>24109</td>\n",
              "      <td>11919</td>\n",
              "    </tr>\n",
              "  </tbody>\n",
              "</table>\n",
              "</div>"
            ],
            "text/plain": [
              "EducationLevel  No HS or GED  HS-GED or Some College  College Grad+\n",
              "Diabetes                                                           \n",
              "No                     10567                  105533          90804\n",
              "Yes                     3755                   24109          11919"
            ]
          },
          "metadata": {
            "tags": []
          },
          "execution_count": 44
        }
      ]
    },
    {
      "cell_type": "code",
      "metadata": {
        "colab": {
          "base_uri": "https://localhost:8080/"
        },
        "id": "csVQdVqQRNoa",
        "outputId": "aa559154-128d-48c0-af3e-4eb74e8e2841"
      },
      "source": [
        "oddEd1, pvalueEd1 = stats.fisher_exact([[3755, 11919], [10567, 90804]])\n",
        "oddEd3, pvalueEd3 = stats.fisher_exact([[24109, 11919], [105533, 90804]])\n",
        "print('oddEd1=%.3f, pvalueEd1=%.3f, oddEd3=%.3f, pvalueEd3=%.3f' % (oddEd1, pvalueEd1,  oddEd3, pvalueEd3))"
      ],
      "execution_count": null,
      "outputs": [
        {
          "output_type": "stream",
          "text": [
            "oddEd1=2.707, pvalueEd1=0.000, oddEd3=1.740, pvalueEd3=0.000\n"
          ],
          "name": "stdout"
        }
      ]
    },
    {
      "cell_type": "markdown",
      "metadata": {
        "id": "hSzdtiNJz263"
      },
      "source": [
        "##### Interpreting the odds ratio and p-values\n",
        "* ###### The odds of Type 2 Diabetes are 2.707 times higher in people who did not graduate High school or not have GED than in people who graduated college.\n",
        "* ###### The odds of Type 2 Diabetes are 1.740 times higher in people who graduated High school or have GED or have some college education than in people who graduated college.\n",
        "* ###### All p-values are significant.\n",
        "\n",
        "##### We can see from these odds ratio that the lower the level of education, the higher are the odds of type 2 Diabetes."
      ]
    },
    {
      "cell_type": "code",
      "metadata": {
        "colab": {
          "base_uri": "https://localhost:8080/",
          "height": 394
        },
        "id": "zJe0Dp1eOU5V",
        "outputId": "8550cec0-7a0f-4204-f4a1-0557218d9ccc"
      },
      "source": [
        "plt.figure(figsize=(8, 4))\n",
        "sns.histplot(data = df, x = 'EducationLevel', hue = 'Diabetes', multiple=\"stack\", palette=['#DBDADB', '#C12E14'])\n",
        "plt.show()"
      ],
      "execution_count": null,
      "outputs": [
        {
          "output_type": "display_data",
          "data": {
            "image/png": "[encoded data removed]",
            "text/plain": [
              "<Figure size 576x288 with 1 Axes>"
            ]
          },
          "metadata": {
            "tags": []
          }
        }
      ]
    },
    {
      "cell_type": "markdown",
      "metadata": {
        "id": "XYUId20EOU5W"
      },
      "source": [
        "#### Variable Would you say that in general your health is:"
      ]
    },
    {
      "cell_type": "code",
      "metadata": {
        "id": "DW2riiRhOU5W"
      },
      "source": [
        "df['GenHealth']=pd.cut(df['GenHealth'], bins = [0, 1, 2], labels = ['Good or Better', 'Fair or Poor'])"
      ],
      "execution_count": null,
      "outputs": []
    },
    {
      "cell_type": "code",
      "metadata": {
        "colab": {
          "base_uri": "https://localhost:8080/",
          "height": 141
        },
        "id": "rVne0_8cOU5X",
        "outputId": "e3993296-5e1e-421f-964c-d2b5528f8027"
      },
      "source": [
        "pd.crosstab(df['Diabetes'], df['GenHealth'])"
      ],
      "execution_count": null,
      "outputs": [
        {
          "output_type": "execute_result",
          "data": {
            "text/html": [
              "<div>\n",
              "<style scoped>\n",
              "    .dataframe tbody tr th:only-of-type {\n",
              "        vertical-align: middle;\n",
              "    }\n",
              "\n",
              "    .dataframe tbody tr th {\n",
              "        vertical-align: top;\n",
              "    }\n",
              "\n",
              "    .dataframe thead th {\n",
              "        text-align: right;\n",
              "    }\n",
              "</style>\n",
              "<table border=\"1\" class=\"dataframe\">\n",
              "  <thead>\n",
              "    <tr style=\"text-align: right;\">\n",
              "      <th>GenHealth</th>\n",
              "      <th>Good or Better</th>\n",
              "      <th>Fair or Poor</th>\n",
              "    </tr>\n",
              "    <tr>\n",
              "      <th>Diabetes</th>\n",
              "      <th></th>\n",
              "      <th></th>\n",
              "    </tr>\n",
              "  </thead>\n",
              "  <tbody>\n",
              "    <tr>\n",
              "      <th>No</th>\n",
              "      <td>177132</td>\n",
              "      <td>29772</td>\n",
              "    </tr>\n",
              "    <tr>\n",
              "      <th>Yes</th>\n",
              "      <td>23835</td>\n",
              "      <td>15948</td>\n",
              "    </tr>\n",
              "  </tbody>\n",
              "</table>\n",
              "</div>"
            ],
            "text/plain": [
              "GenHealth  Good or Better  Fair or Poor\n",
              "Diabetes                               \n",
              "No                 177132         29772\n",
              "Yes                 23835         15948"
            ]
          },
          "metadata": {
            "tags": []
          },
          "execution_count": 47
        }
      ]
    },
    {
      "cell_type": "code",
      "metadata": {
        "colab": {
          "base_uri": "https://localhost:8080/"
        },
        "id": "aSoJJEsxjwoX",
        "outputId": "b9ea11f7-c5b8-4c9b-9147-c72734d7d6c8"
      },
      "source": [
        "oddGh, pvalueGh = stats.fisher_exact([[15948, 23835], [29772, 177132]])\n",
        "print('oddGh=%.3f, pvalueGh=%.3f' % (oddGh, pvalueGh))"
      ],
      "execution_count": null,
      "outputs": [
        {
          "output_type": "stream",
          "text": [
            "oddGh=3.981, pvalueGh=0.000\n"
          ],
          "name": "stdout"
        }
      ]
    },
    {
      "cell_type": "markdown",
      "metadata": {
        "id": "hDiSAkn7z264"
      },
      "source": [
        "##### The odds of Type 2 Diabetes are 3.981 (almost 4) times higher in people with general health Fair or Poor than in people with general health Good or Better"
      ]
    },
    {
      "cell_type": "code",
      "metadata": {
        "colab": {
          "base_uri": "https://localhost:8080/",
          "height": 285
        },
        "id": "0j_RtXhDOU5X",
        "outputId": "a6fb62bf-6bff-4ca9-f189-2a3ce6aa8a34"
      },
      "source": [
        "sns.histplot(data = df, x = 'GenHealth', hue = 'Diabetes', multiple=\"stack\", palette=['#DBDADB', '#C12E14'])\n",
        "plt.show()"
      ],
      "execution_count": null,
      "outputs": [
        {
          "output_type": "display_data",
          "data": {
            "image/png": "[encoded data removed]",
            "text/plain": [
              "<Figure size 432x288 with 1 Axes>"
            ]
          },
          "metadata": {
            "tags": []
          }
        }
      ]
    },
    {
      "cell_type": "markdown",
      "metadata": {
        "id": "ixx4CcN4OU5Y"
      },
      "source": [
        "#### Variable was there a time in the past 12 months when you needed to see a doctor but could not because of cost?"
      ]
    },
    {
      "cell_type": "code",
      "metadata": {
        "id": "x8P8cNQmOU5Y"
      },
      "source": [
        "df['MedAffordability'] = pd.cut(df['MedAffordability'], [0, 1, 2], labels = ['Afford', 'NotAfford'])"
      ],
      "execution_count": null,
      "outputs": []
    },
    {
      "cell_type": "code",
      "metadata": {
        "colab": {
          "base_uri": "https://localhost:8080/",
          "height": 141
        },
        "id": "Dwgns7z-OU5Y",
        "outputId": "9413406d-1ab3-49f9-dc6b-a22e1c3a0a7b"
      },
      "source": [
        "pd.crosstab(df['Diabetes'], df['MedAffordability'])"
      ],
      "execution_count": null,
      "outputs": [
        {
          "output_type": "execute_result",
          "data": {
            "text/html": [
              "<div>\n",
              "<style scoped>\n",
              "    .dataframe tbody tr th:only-of-type {\n",
              "        vertical-align: middle;\n",
              "    }\n",
              "\n",
              "    .dataframe tbody tr th {\n",
              "        vertical-align: top;\n",
              "    }\n",
              "\n",
              "    .dataframe thead th {\n",
              "        text-align: right;\n",
              "    }\n",
              "</style>\n",
              "<table border=\"1\" class=\"dataframe\">\n",
              "  <thead>\n",
              "    <tr style=\"text-align: right;\">\n",
              "      <th>MedAffordability</th>\n",
              "      <th>Afford</th>\n",
              "      <th>NotAfford</th>\n",
              "    </tr>\n",
              "    <tr>\n",
              "      <th>Diabetes</th>\n",
              "      <th></th>\n",
              "      <th></th>\n",
              "    </tr>\n",
              "  </thead>\n",
              "  <tbody>\n",
              "    <tr>\n",
              "      <th>No</th>\n",
              "      <td>17159</td>\n",
              "      <td>189745</td>\n",
              "    </tr>\n",
              "    <tr>\n",
              "      <th>Yes</th>\n",
              "      <td>4171</td>\n",
              "      <td>35612</td>\n",
              "    </tr>\n",
              "  </tbody>\n",
              "</table>\n",
              "</div>"
            ],
            "text/plain": [
              "MedAffordability  Afford  NotAfford\n",
              "Diabetes                           \n",
              "No                 17159     189745\n",
              "Yes                 4171      35612"
            ]
          },
          "metadata": {
            "tags": []
          },
          "execution_count": 50
        }
      ]
    },
    {
      "cell_type": "code",
      "metadata": {
        "colab": {
          "base_uri": "https://localhost:8080/"
        },
        "id": "MbxMj4VrLg63",
        "outputId": "b33ed86a-c713-44f9-917a-d2754d4ebd43"
      },
      "source": [
        "oddMd, pvalueMd = stats.fisher_exact([[4171,35612], [17159, 189745]])\n",
        "print('oddMd=%.3f, pvalueMd=%.3f' % (oddMd, pvalueMd))"
      ],
      "execution_count": null,
      "outputs": [
        {
          "output_type": "stream",
          "text": [
            "oddMd=1.295, pvalueMd=0.000\n"
          ],
          "name": "stdout"
        }
      ]
    },
    {
      "cell_type": "markdown",
      "metadata": {
        "id": "MvcNDLpNz265"
      },
      "source": [
        "##### The odds of Type 2 Diabetes are 1.295 times higher in people who could afford to see doctor than people who could not see a doctor because of cost."
      ]
    },
    {
      "cell_type": "code",
      "metadata": {
        "colab": {
          "base_uri": "https://localhost:8080/",
          "height": 285
        },
        "id": "iV0SYauXOU5Z",
        "outputId": "e6c723ed-167f-445d-fbb3-45fff38252eb"
      },
      "source": [
        "sns.histplot(data = df, x = 'MedAffordability', hue = 'Diabetes', multiple=\"stack\", palette=['#DBDADB', '#C12E14'])\n",
        "plt.show()"
      ],
      "execution_count": null,
      "outputs": [
        {
          "output_type": "display_data",
          "data": {
            "image/png": "[encoded data removed]",
            "text/plain": [
              "<Figure size 432x288 with 1 Axes>"
            ]
          },
          "metadata": {
            "tags": []
          }
        }
      ]
    },
    {
      "cell_type": "markdown",
      "metadata": {
        "id": "q1WpruA0OU5a"
      },
      "source": [
        "#### Variable Race"
      ]
    },
    {
      "cell_type": "code",
      "metadata": {
        "id": "7LrHU52NOU5a"
      },
      "source": [
        "df['Race'] = pd.cut(df['Race'], [0, 1, 2, 3, 4, 5, 6], labels = ['White', 'Black', 'Asian', 'Native A', 'Hispanic', 'Other'])"
      ],
      "execution_count": null,
      "outputs": []
    },
    {
      "cell_type": "code",
      "metadata": {
        "colab": {
          "base_uri": "https://localhost:8080/",
          "height": 141
        },
        "id": "fcE5tuJbOU5b",
        "outputId": "06cfa296-2548-4e5d-ec8a-2a955ceb36fb"
      },
      "source": [
        "pd.crosstab(df['Diabetes'], df['Race'])"
      ],
      "execution_count": null,
      "outputs": [
        {
          "output_type": "execute_result",
          "data": {
            "text/html": [
              "<div>\n",
              "<style scoped>\n",
              "    .dataframe tbody tr th:only-of-type {\n",
              "        vertical-align: middle;\n",
              "    }\n",
              "\n",
              "    .dataframe tbody tr th {\n",
              "        vertical-align: top;\n",
              "    }\n",
              "\n",
              "    .dataframe thead th {\n",
              "        text-align: right;\n",
              "    }\n",
              "</style>\n",
              "<table border=\"1\" class=\"dataframe\">\n",
              "  <thead>\n",
              "    <tr style=\"text-align: right;\">\n",
              "      <th>Race</th>\n",
              "      <th>White</th>\n",
              "      <th>Black</th>\n",
              "      <th>Asian</th>\n",
              "      <th>Native A</th>\n",
              "      <th>Hispanic</th>\n",
              "      <th>Other</th>\n",
              "    </tr>\n",
              "    <tr>\n",
              "      <th>Diabetes</th>\n",
              "      <th></th>\n",
              "      <th></th>\n",
              "      <th></th>\n",
              "      <th></th>\n",
              "      <th></th>\n",
              "      <th></th>\n",
              "    </tr>\n",
              "  </thead>\n",
              "  <tbody>\n",
              "    <tr>\n",
              "      <th>No</th>\n",
              "      <td>170454</td>\n",
              "      <td>14320</td>\n",
              "      <td>3370</td>\n",
              "      <td>3079</td>\n",
              "      <td>10385</td>\n",
              "      <td>5296</td>\n",
              "    </tr>\n",
              "    <tr>\n",
              "      <th>Yes</th>\n",
              "      <td>29426</td>\n",
              "      <td>4774</td>\n",
              "      <td>725</td>\n",
              "      <td>1146</td>\n",
              "      <td>2449</td>\n",
              "      <td>1263</td>\n",
              "    </tr>\n",
              "  </tbody>\n",
              "</table>\n",
              "</div>"
            ],
            "text/plain": [
              "Race       White  Black  Asian  Native A  Hispanic  Other\n",
              "Diabetes                                                 \n",
              "No        170454  14320   3370      3079     10385   5296\n",
              "Yes        29426   4774    725      1146      2449   1263"
            ]
          },
          "metadata": {
            "tags": []
          },
          "execution_count": 53
        }
      ]
    },
    {
      "cell_type": "code",
      "metadata": {
        "colab": {
          "base_uri": "https://localhost:8080/"
        },
        "id": "dVrQwknLMYHP",
        "outputId": "4e7fe2bd-5e83-4651-ba45-d4bf7feac152"
      },
      "source": [
        "oddWb, pvalueWb = stats.fisher_exact([[4747, 29426], [14320, 170454]])\n",
        "oddWa, pvalueWa = stats.fisher_exact([[725, 29426], [3370,170454]])\n",
        "oddWn, pvalueWn = stats.fisher_exact([[1146, 29426], [3079, 170454]])\n",
        "oddWh, pvalueWh = stats.fisher_exact([[2449, 29426], [10385, 170454]])\n",
        "oddWo, pvalueWo = stats.fisher_exact([[1263, 29426], [5296, 170454]])\n",
        "print('oddWb=%.3f, pvalueWb=%.3f, oddWa=%.3f, pvalueWa=%.3f, oddWn=%.3f, pvalueWn=%.3f, oddWh=%.3f, pvalueWh=%.3f, oddWo=%.3f, pvalueWo=%.3f'\n",
        " % (oddWb, pvalueWb, oddWa, pvalueWa, oddWn, pvalueWn, oddWh, pvalueWh, oddWo, pvalueWo))"
      ],
      "execution_count": null,
      "outputs": [
        {
          "output_type": "stream",
          "text": [
            "oddWb=1.920, pvalueWb=0.000, oddWa=1.246, pvalueWa=0.000, oddWn=2.156, pvalueWn=0.000, oddWh=1.366, pvalueWh=0.000, oddWo=1.381, pvalueWo=0.000\n"
          ],
          "name": "stdout"
        }
      ]
    },
    {
      "cell_type": "markdown",
      "metadata": {
        "id": "Lvoy0xrez267"
      },
      "source": [
        "##### Interpreting the odds ratio and p-values\n",
        "* ###### The odds of Type 2 Diabetes are 1.92 (almost 2) times higher in Black than in White.\n",
        "* ###### The odds of Type 2 Diabetes are 1.246 times higher in Asian than in White.\n",
        "* ###### The odds of Type 2 Diabetes are 2.156 times higher in Native American than in White.\n",
        "* ###### The odds of Type 2 Diabetes are 1.355 times higher in Hispanic than in White.\n",
        "* ###### The odds of Type 2 Diabetes are 1.381 times higher in Other race Non-Hispanic than in White.\n",
        "* ###### All p-value are significant."
      ]
    },
    {
      "cell_type": "markdown",
      "metadata": {
        "id": "_9s3zL8uz267"
      },
      "source": [
        "##### For the purpose of dimension reduction and modeling \n",
        "- I'll merge Black and Native American, because their odds are close.\n",
        "- I'll merge Hispanic and other races, because their are almost the same."
      ]
    },
    {
      "cell_type": "code",
      "metadata": {
        "id": "BOZ5Rgnlz267"
      },
      "source": [
        "df['Race'] = np.where((df.Race == 'Black'), 'Black or Native',df.Race)\n",
        "df['Race'] = np.where((df.Race == 'Native A'), 'Black or Native',df.Race)\n",
        "df['Race'] = np.where((df.Race == 'Hispanic'), 'Hispanic or Other',df.Race)\n",
        "df['Race'] = np.where((df.Race == 'Other'), 'Hispanic or Other',df.Race)"
      ],
      "execution_count": null,
      "outputs": []
    },
    {
      "cell_type": "code",
      "metadata": {
        "id": "xNDHlPt0z268",
        "outputId": "2fbd95d8-e59b-4975-97cd-a9ce7fb8ab6b"
      },
      "source": [
        "pd.crosstab(df['Diabetes'], df['Race'])"
      ],
      "execution_count": null,
      "outputs": [
        {
          "output_type": "execute_result",
          "data": {
            "text/html": [
              "<div>\n",
              "<style scoped>\n",
              "    .dataframe tbody tr th:only-of-type {\n",
              "        vertical-align: middle;\n",
              "    }\n",
              "\n",
              "    .dataframe tbody tr th {\n",
              "        vertical-align: top;\n",
              "    }\n",
              "\n",
              "    .dataframe thead th {\n",
              "        text-align: right;\n",
              "    }\n",
              "</style>\n",
              "<table border=\"1\" class=\"dataframe\">\n",
              "  <thead>\n",
              "    <tr style=\"text-align: right;\">\n",
              "      <th>Race</th>\n",
              "      <th>Asian</th>\n",
              "      <th>Black or Native</th>\n",
              "      <th>Hispanic or Other</th>\n",
              "      <th>White</th>\n",
              "    </tr>\n",
              "    <tr>\n",
              "      <th>Diabetes</th>\n",
              "      <th></th>\n",
              "      <th></th>\n",
              "      <th></th>\n",
              "      <th></th>\n",
              "    </tr>\n",
              "  </thead>\n",
              "  <tbody>\n",
              "    <tr>\n",
              "      <th>No</th>\n",
              "      <td>3370</td>\n",
              "      <td>17399</td>\n",
              "      <td>15681</td>\n",
              "      <td>170454</td>\n",
              "    </tr>\n",
              "    <tr>\n",
              "      <th>Yes</th>\n",
              "      <td>725</td>\n",
              "      <td>5920</td>\n",
              "      <td>3712</td>\n",
              "      <td>29426</td>\n",
              "    </tr>\n",
              "  </tbody>\n",
              "</table>\n",
              "</div>"
            ],
            "text/plain": [
              "Race      Asian  Black or Native  Hispanic or Other   White\n",
              "Diabetes                                                   \n",
              "No         3370            17399              15681  170454\n",
              "Yes         725             5920               3712   29426"
            ]
          },
          "metadata": {
            "tags": []
          },
          "execution_count": 56
        }
      ]
    },
    {
      "cell_type": "code",
      "metadata": {
        "colab": {
          "base_uri": "https://localhost:8080/",
          "height": 394
        },
        "id": "zeO--effOU5b",
        "outputId": "01ddfff4-f773-4bce-ab22-81a33eb1e170"
      },
      "source": [
        "plt.figure(figsize=(8,4))\n",
        "sns.histplot(data = df, x = 'Race', hue = 'Diabetes', multiple=\"stack\", palette=['#DBDADB', '#C12E14'])\n",
        "plt.show()"
      ],
      "execution_count": null,
      "outputs": [
        {
          "output_type": "display_data",
          "data": {
            "image/png": "[encoded data removed]",
            "text/plain": [
              "<Figure size 576x288 with 1 Axes>"
            ]
          },
          "metadata": {
            "tags": []
          }
        }
      ]
    },
    {
      "cell_type": "markdown",
      "metadata": {
        "id": "CCH9auyPOU5c"
      },
      "source": [
        "#### Variable BMI category"
      ]
    },
    {
      "cell_type": "code",
      "metadata": {
        "id": "HVzawTmKOU5d"
      },
      "source": [
        "df['BMI'] = pd.cut(df['BMICategory'], [0, 1, 2, 3, 4], labels = ['Under weight', 'Normal', 'Over Weight', 'Obese'])"
      ],
      "execution_count": null,
      "outputs": []
    },
    {
      "cell_type": "code",
      "metadata": {
        "colab": {
          "base_uri": "https://localhost:8080/",
          "height": 141
        },
        "id": "3B4EekeFOU5d",
        "outputId": "eac5ea6c-2ab2-4704-8873-b1f59a3ac51b"
      },
      "source": [
        "pd.crosstab(df['Diabetes'], df['BMI'])"
      ],
      "execution_count": null,
      "outputs": [
        {
          "output_type": "execute_result",
          "data": {
            "text/html": [
              "<div>\n",
              "<style scoped>\n",
              "    .dataframe tbody tr th:only-of-type {\n",
              "        vertical-align: middle;\n",
              "    }\n",
              "\n",
              "    .dataframe tbody tr th {\n",
              "        vertical-align: top;\n",
              "    }\n",
              "\n",
              "    .dataframe thead th {\n",
              "        text-align: right;\n",
              "    }\n",
              "</style>\n",
              "<table border=\"1\" class=\"dataframe\">\n",
              "  <thead>\n",
              "    <tr style=\"text-align: right;\">\n",
              "      <th>BMI</th>\n",
              "      <th>Under weight</th>\n",
              "      <th>Normal</th>\n",
              "      <th>Over Weight</th>\n",
              "      <th>Obese</th>\n",
              "    </tr>\n",
              "    <tr>\n",
              "      <th>Diabetes</th>\n",
              "      <th></th>\n",
              "      <th></th>\n",
              "      <th></th>\n",
              "      <th></th>\n",
              "    </tr>\n",
              "  </thead>\n",
              "  <tbody>\n",
              "    <tr>\n",
              "      <th>No</th>\n",
              "      <td>2932</td>\n",
              "      <td>63445</td>\n",
              "      <td>79433</td>\n",
              "      <td>61094</td>\n",
              "    </tr>\n",
              "    <tr>\n",
              "      <th>Yes</th>\n",
              "      <td>193</td>\n",
              "      <td>5092</td>\n",
              "      <td>12453</td>\n",
              "      <td>22045</td>\n",
              "    </tr>\n",
              "  </tbody>\n",
              "</table>\n",
              "</div>"
            ],
            "text/plain": [
              "BMI       Under weight  Normal  Over Weight  Obese\n",
              "Diabetes                                          \n",
              "No                2932   63445        79433  61094\n",
              "Yes                193    5092        12453  22045"
            ]
          },
          "metadata": {
            "tags": []
          },
          "execution_count": 58
        }
      ]
    },
    {
      "cell_type": "code",
      "metadata": {
        "colab": {
          "base_uri": "https://localhost:8080/"
        },
        "id": "SMHgRZwwVk7O",
        "outputId": "eb149116-1a70-49de-de9e-432eb11393d6"
      },
      "source": [
        "oddBu, pvalueBu = stats.fisher_exact([[193,5092], [2932, 63445]])\n",
        "oddBo, pvalueBo = stats.fisher_exact([[12453, 5092], [79433, 63445]])\n",
        "oddBO, pvalueBO = stats.fisher_exact([[22045, 5092], [61094, 63445]])\n",
        "print('oddBu=%.3f, pvalueBu=%.3f, oddBo=%.3f, pvalueBo=%.3f, oddBO=%.3f, pvalueBO=%.3f' % (oddBu, pvalueBu, oddBo, pvalueBo, oddBO, pvalueBO))"
      ],
      "execution_count": null,
      "outputs": [
        {
          "output_type": "stream",
          "text": [
            "oddBu=0.820, pvalueBu=0.009, oddBo=1.953, pvalueBo=0.000, oddBO=4.496, pvalueBO=0.000\n"
          ],
          "name": "stdout"
        }
      ]
    },
    {
      "cell_type": "markdown",
      "metadata": {
        "id": "ncnXrsPlz269"
      },
      "source": [
        "##### Interpreting the odds ratio and p-values\n",
        "* ###### The odds of Type 2 Diabetes are 0.82 times lower in people with Under Weight than people with Normal Weight.\n",
        "* ###### The odds of Type 2 Diabetes are 1.953 (almost 2) times higher in Over Weight people than people with Normal Weight.\n",
        "* ###### The odds of Type 2 Diabetes are 4.496 (almost 4.5) times higher in Obese people than people with Normal Weight.\n",
        "* ###### All p-values are significant.\n",
        "\n",
        "##### What we can see by these odds ratio, is that the higher the BMI, the higher are the odds of Type 2 Diabetes."
      ]
    },
    {
      "cell_type": "code",
      "metadata": {
        "colab": {
          "base_uri": "https://localhost:8080/",
          "height": 285
        },
        "id": "HxRTG4k8OU5d",
        "outputId": "3663f21b-6d81-4301-9eb7-763ddf5b7a7a"
      },
      "source": [
        "sns.histplot(data = df, x = 'BMI', hue = 'Diabetes', multiple=\"stack\", palette=['#DBDADB', '#C12E14'])\n",
        "plt.show()"
      ],
      "execution_count": null,
      "outputs": [
        {
          "output_type": "display_data",
          "data": {
            "image/png": "[encoded data removed]",
            "text/plain": [
              "<Figure size 432x288 with 1 Axes>"
            ]
          },
          "metadata": {
            "tags": []
          }
        }
      ]
    },
    {
      "cell_type": "markdown",
      "metadata": {
        "id": "v3HARGGnOU5e"
      },
      "source": [
        "#### Variable Marital Status"
      ]
    },
    {
      "cell_type": "code",
      "metadata": {
        "id": "DsmZnRLBOU5e"
      },
      "source": [
        "df['MaritalStatus'] = pd.cut(df['MaritalStatus'], [0, 1, 2, 3, 4, 5,6], labels = ['Married', 'Divorced', 'Widowed', 'Separated', 'NeverMarried', 'UnMarriedC'])"
      ],
      "execution_count": null,
      "outputs": []
    },
    {
      "cell_type": "code",
      "metadata": {
        "colab": {
          "base_uri": "https://localhost:8080/",
          "height": 141
        },
        "id": "myLSfMcxOU5f",
        "outputId": "0a5954a1-2b4f-4e67-b4ea-f69127eb3152"
      },
      "source": [
        "pd.crosstab(df['Diabetes'], df['MaritalStatus'])"
      ],
      "execution_count": null,
      "outputs": [
        {
          "output_type": "execute_result",
          "data": {
            "text/html": [
              "<div>\n",
              "<style scoped>\n",
              "    .dataframe tbody tr th:only-of-type {\n",
              "        vertical-align: middle;\n",
              "    }\n",
              "\n",
              "    .dataframe tbody tr th {\n",
              "        vertical-align: top;\n",
              "    }\n",
              "\n",
              "    .dataframe thead th {\n",
              "        text-align: right;\n",
              "    }\n",
              "</style>\n",
              "<table border=\"1\" class=\"dataframe\">\n",
              "  <thead>\n",
              "    <tr style=\"text-align: right;\">\n",
              "      <th>MaritalStatus</th>\n",
              "      <th>Married</th>\n",
              "      <th>Divorced</th>\n",
              "      <th>Widowed</th>\n",
              "      <th>Separated</th>\n",
              "      <th>NeverMarried</th>\n",
              "      <th>UnMarriedC</th>\n",
              "    </tr>\n",
              "    <tr>\n",
              "      <th>Diabetes</th>\n",
              "      <th></th>\n",
              "      <th></th>\n",
              "      <th></th>\n",
              "      <th></th>\n",
              "      <th></th>\n",
              "      <th></th>\n",
              "    </tr>\n",
              "  </thead>\n",
              "  <tbody>\n",
              "    <tr>\n",
              "      <th>No</th>\n",
              "      <td>122699</td>\n",
              "      <td>32338</td>\n",
              "      <td>23836</td>\n",
              "      <td>4050</td>\n",
              "      <td>19094</td>\n",
              "      <td>4887</td>\n",
              "    </tr>\n",
              "    <tr>\n",
              "      <th>Yes</th>\n",
              "      <td>20281</td>\n",
              "      <td>6978</td>\n",
              "      <td>6939</td>\n",
              "      <td>1047</td>\n",
              "      <td>3832</td>\n",
              "      <td>706</td>\n",
              "    </tr>\n",
              "  </tbody>\n",
              "</table>\n",
              "</div>"
            ],
            "text/plain": [
              "MaritalStatus  Married  Divorced  Widowed  Separated  NeverMarried  UnMarriedC\n",
              "Diabetes                                                                      \n",
              "No              122699     32338    23836       4050         19094        4887\n",
              "Yes              20281      6978     6939       1047          3832         706"
            ]
          },
          "metadata": {
            "tags": []
          },
          "execution_count": 61
        }
      ]
    },
    {
      "cell_type": "code",
      "metadata": {
        "colab": {
          "base_uri": "https://localhost:8080/"
        },
        "id": "CDOEet4nX411",
        "outputId": "c723a196-7960-4fe4-a2ac-91aee99e8e17"
      },
      "source": [
        "oddMd, pvalueMd = stats.fisher_exact([[6978, 20281], [32338, 122699]])\n",
        "oddMw, pvalueMw = stats.fisher_exact([[6939, 20281], [23836, 122699]])\n",
        "oddMs, pvalueMs = stats.fisher_exact([[1047, 20281], [4050, 122699]])\n",
        "oddMn, pvalueMn = stats.fisher_exact([[3832, 20281], [19094, 122699]])\n",
        "oddMu, pvalueMu = stats.fisher_exact([[706, 20281], [4887, 122699]])\n",
        "print('oddMd=%.3f, pvalueMd=%.3f, oddMw=%.3f, pvalueMw=%.3f, oddMs=%.3f, pvalueMs=%.3f, oddMn=%.3f, pvalueMn=%.3f, oddMu=%.3f, pvalueMu=%.3f'\n",
        " % (oddMd, pvalueMd, oddMw, pvalueMw, oddMs, pvalueMs, oddMn, pvalueMn, oddMu, pvalueMu))"
      ],
      "execution_count": null,
      "outputs": [
        {
          "output_type": "stream",
          "text": [
            "oddMd=1.305, pvalueMd=0.000, oddMw=1.761, pvalueMw=0.000, oddMs=1.564, pvalueMs=0.000, oddMn=1.214, pvalueMn=0.000, oddMu=0.874, pvalueMu=0.001\n"
          ],
          "name": "stdout"
        }
      ]
    },
    {
      "cell_type": "markdown",
      "metadata": {
        "id": "tQgSj7xUz26_"
      },
      "source": [
        "##### Interpreting the odds ratio and p-values\n",
        "* ###### The odds of Type 2 Diabetes are 1.305 times higher in Divorcee than in Married.\n",
        "* ###### The odds of Type 2 Diabetes are 1.761 times higher in Widowed than in Married.\n",
        "* ###### The odds of Type 2 Diabetes are 1.564 times higher in Separated than in Married.\n",
        "* ###### The odds of Type 2 Diabetes are 1.214 times higher in Never Married than in Married.\n",
        "* ###### The odds of Type 2 Diabetes are 0.874 times lower in Unmarried couple than in Married.\n",
        "* ###### All p-values are significant."
      ]
    },
    {
      "cell_type": "code",
      "metadata": {
        "colab": {
          "base_uri": "https://localhost:8080/",
          "height": 394
        },
        "id": "LsTJfAkdOU5f",
        "outputId": "e85e557f-3e05-4bd5-f244-7a53b680fca2"
      },
      "source": [
        "plt.figure(figsize=(8,4))\n",
        "sns.histplot(data = df, x = 'MaritalStatus', hue = 'Diabetes', multiple=\"stack\", palette=['#DBDADB', '#C12E14'])\n",
        "plt.show()"
      ],
      "execution_count": null,
      "outputs": [
        {
          "output_type": "display_data",
          "data": {
            "image/png": "[encoded data removed]",
            "text/plain": [
              "<Figure size 576x288 with 1 Axes>"
            ]
          },
          "metadata": {
            "tags": []
          }
        }
      ]
    },
    {
      "cell_type": "markdown",
      "metadata": {
        "id": "b7lwZphGOU5g"
      },
      "source": [
        "#### Variable Flushot"
      ]
    },
    {
      "cell_type": "code",
      "metadata": {
        "id": "p_B0pzduOU5h"
      },
      "source": [
        "df['Flushot'] = pd.cut(df['Flushot'] , [0, 1, 2], labels = ['Yes', 'No'])"
      ],
      "execution_count": null,
      "outputs": []
    },
    {
      "cell_type": "code",
      "metadata": {
        "colab": {
          "base_uri": "https://localhost:8080/",
          "height": 141
        },
        "id": "JlPs3L_hOU5h",
        "outputId": "f24d2491-1098-403f-bfc9-e5fde422fc17"
      },
      "source": [
        "pd.crosstab(df['Diabetes'], df['Flushot'])"
      ],
      "execution_count": null,
      "outputs": [
        {
          "output_type": "execute_result",
          "data": {
            "text/html": [
              "<div>\n",
              "<style scoped>\n",
              "    .dataframe tbody tr th:only-of-type {\n",
              "        vertical-align: middle;\n",
              "    }\n",
              "\n",
              "    .dataframe tbody tr th {\n",
              "        vertical-align: top;\n",
              "    }\n",
              "\n",
              "    .dataframe thead th {\n",
              "        text-align: right;\n",
              "    }\n",
              "</style>\n",
              "<table border=\"1\" class=\"dataframe\">\n",
              "  <thead>\n",
              "    <tr style=\"text-align: right;\">\n",
              "      <th>Flushot</th>\n",
              "      <th>Yes</th>\n",
              "      <th>No</th>\n",
              "    </tr>\n",
              "    <tr>\n",
              "      <th>Diabetes</th>\n",
              "      <th></th>\n",
              "      <th></th>\n",
              "    </tr>\n",
              "  </thead>\n",
              "  <tbody>\n",
              "    <tr>\n",
              "      <th>No</th>\n",
              "      <td>84693</td>\n",
              "      <td>122211</td>\n",
              "    </tr>\n",
              "    <tr>\n",
              "      <th>Yes</th>\n",
              "      <td>20494</td>\n",
              "      <td>19289</td>\n",
              "    </tr>\n",
              "  </tbody>\n",
              "</table>\n",
              "</div>"
            ],
            "text/plain": [
              "Flushot     Yes      No\n",
              "Diabetes               \n",
              "No        84693  122211\n",
              "Yes       20494   19289"
            ]
          },
          "metadata": {
            "tags": []
          },
          "execution_count": 64
        }
      ]
    },
    {
      "cell_type": "code",
      "metadata": {
        "colab": {
          "base_uri": "https://localhost:8080/"
        },
        "id": "TMiYlwjbfDxp",
        "outputId": "234b307b-a98f-4ecc-f7c5-7b54a3b0ae8e"
      },
      "source": [
        "oddF, pvalueF = stats.fisher_exact([[20494, 19289], [84693, 122211]])\n",
        "print('oddF=%.3f, pvalueF=%.3f' % (oddF, pvalueF))"
      ],
      "execution_count": null,
      "outputs": [
        {
          "output_type": "stream",
          "text": [
            "oddF=1.533, pvalueF=0.000\n"
          ],
          "name": "stdout"
        }
      ]
    },
    {
      "cell_type": "markdown",
      "metadata": {
        "id": "IgbOe2JBz27A"
      },
      "source": [
        "##### The odds of Type 2 Diabetes are 1.533 higher in people who got Flushot than people who did not."
      ]
    },
    {
      "cell_type": "code",
      "metadata": {
        "colab": {
          "base_uri": "https://localhost:8080/",
          "height": 285
        },
        "id": "MrU15usfOU5h",
        "outputId": "e3e71ab4-0770-4cca-fd94-76664c3865af"
      },
      "source": [
        "sns.histplot(data = df, x = 'Flushot', hue = 'Diabetes', multiple=\"stack\", palette=['#DBDADB', '#C12E14'])\n",
        "plt.show()"
      ],
      "execution_count": null,
      "outputs": [
        {
          "output_type": "display_data",
          "data": {
            "image/png": "[encoded data removed]",
            "text/plain": [
              "<Figure size 432x288 with 1 Axes>"
            ]
          },
          "metadata": {
            "tags": []
          }
        }
      ]
    },
    {
      "cell_type": "markdown",
      "metadata": {
        "id": "q0dAMVdgOU5i"
      },
      "source": [
        "#### Variable about Employment Status"
      ]
    },
    {
      "cell_type": "code",
      "metadata": {
        "id": "NGeNPb-cOU5j"
      },
      "source": [
        "df['Employment'] = pd.cut(df['Employment'], [0, 1, 2, 4, 5, 6, 7, 8], labels = ['Wages', 'SelfE', 'Unemployed','Homemaker', 'Student', 'Retired', 'Unable'])"
      ],
      "execution_count": null,
      "outputs": []
    },
    {
      "cell_type": "code",
      "metadata": {
        "colab": {
          "base_uri": "https://localhost:8080/",
          "height": 141
        },
        "id": "_cHd62j7OU5j",
        "outputId": "f1a3a684-5550-44fe-8c8b-c4923a8211e8"
      },
      "source": [
        "pd.crosstab(df['Diabetes'], df['Employment'])"
      ],
      "execution_count": null,
      "outputs": [
        {
          "output_type": "execute_result",
          "data": {
            "text/html": [
              "<div>\n",
              "<style scoped>\n",
              "    .dataframe tbody tr th:only-of-type {\n",
              "        vertical-align: middle;\n",
              "    }\n",
              "\n",
              "    .dataframe tbody tr th {\n",
              "        vertical-align: top;\n",
              "    }\n",
              "\n",
              "    .dataframe thead th {\n",
              "        text-align: right;\n",
              "    }\n",
              "</style>\n",
              "<table border=\"1\" class=\"dataframe\">\n",
              "  <thead>\n",
              "    <tr style=\"text-align: right;\">\n",
              "      <th>Employment</th>\n",
              "      <th>Wages</th>\n",
              "      <th>SelfE</th>\n",
              "      <th>Unemployed</th>\n",
              "      <th>Homemaker</th>\n",
              "      <th>Student</th>\n",
              "      <th>Retired</th>\n",
              "      <th>Unable</th>\n",
              "    </tr>\n",
              "    <tr>\n",
              "      <th>Diabetes</th>\n",
              "      <th></th>\n",
              "      <th></th>\n",
              "      <th></th>\n",
              "      <th></th>\n",
              "      <th></th>\n",
              "      <th></th>\n",
              "      <th></th>\n",
              "    </tr>\n",
              "  </thead>\n",
              "  <tbody>\n",
              "    <tr>\n",
              "      <th>No</th>\n",
              "      <td>90397</td>\n",
              "      <td>22435</td>\n",
              "      <td>6185</td>\n",
              "      <td>8515</td>\n",
              "      <td>773</td>\n",
              "      <td>66221</td>\n",
              "      <td>12378</td>\n",
              "    </tr>\n",
              "    <tr>\n",
              "      <th>Yes</th>\n",
              "      <td>10042</td>\n",
              "      <td>2388</td>\n",
              "      <td>1282</td>\n",
              "      <td>1308</td>\n",
              "      <td>74</td>\n",
              "      <td>18527</td>\n",
              "      <td>6162</td>\n",
              "    </tr>\n",
              "  </tbody>\n",
              "</table>\n",
              "</div>"
            ],
            "text/plain": [
              "Employment  Wages  SelfE  Unemployed  Homemaker  Student  Retired  Unable\n",
              "Diabetes                                                                 \n",
              "No          90397  22435        6185       8515      773    66221   12378\n",
              "Yes         10042   2388        1282       1308       74    18527    6162"
            ]
          },
          "metadata": {
            "tags": []
          },
          "execution_count": 67
        }
      ]
    },
    {
      "cell_type": "code",
      "metadata": {
        "colab": {
          "base_uri": "https://localhost:8080/"
        },
        "id": "ma5dpgg5VCIP",
        "outputId": "5194a28c-18a2-4976-9cfe-748f1fad7a27"
      },
      "source": [
        "oddEs, pvalueEs = stats.fisher_exact([[2388, 10042], [22435, 90397]])\n",
        "oddEu, pvalueEu = stats.fisher_exact([[1282, 10042], [6185, 90397]])\n",
        "oddEh, pvalueEh = stats.fisher_exact([[1308, 10042], [8515, 90397]])\n",
        "oddEst, pvalueEst = stats.fisher_exact([[74, 10042], [773, 90397]])\n",
        "oddEr, pvalueEr = stats.fisher_exact([[18527, 10042], [66221, 90397]])\n",
        "oddEu1, pvalueEu1 = stats.fisher_exact([[6162, 10042], [12378, 90397]])\n",
        "\n",
        "print('oddEs=%.3f, pvalueEs=%.3f, oddEu=%.3f, pvalueEu=%.3f, oddEh=%.3f, pvalueEh=%.3f, oddEst=%.3f, pvalueEst=%.3f, oddEr=%.3f, pvalueEr=%.3f, oddEu1=%.3f, pvalueEu1=%.3f'\n",
        " % (oddEs, pvalueEs, oddEu, pvalueEu, oddEh, pvalueEh, oddEst, pvalueEst, oddEr, pvalueEr, oddEu1, pvalueEu1))"
      ],
      "execution_count": null,
      "outputs": [
        {
          "output_type": "stream",
          "text": [
            "oddEs=0.958, pvalueEs=0.075, oddEu=1.866, pvalueEu=0.000, oddEh=1.383, pvalueEh=0.000, oddEst=0.862, pvalueEst=0.249, oddEr=2.519, pvalueEr=0.000, oddEu1=4.481, pvalueEu1=0.000\n"
          ],
          "name": "stdout"
        }
      ]
    },
    {
      "cell_type": "markdown",
      "metadata": {
        "id": "VbxiFNY1z27B"
      },
      "source": [
        "##### Interpreting the odds ratio and p-value\n",
        "* ###### There is no difference of odds of Type 2 Diabetes between Self-Emplyed and Emplyed with wage because the p-value is not significant 0.075 greater than 0.05.\n",
        "* ###### The odds of Type 2 Diabetes are 1.866 times higher in Unemployed than employed with wage.\n",
        "* ###### The odds of Type 2 Diabetes are 1.383 times higher in Homemaker than employed with wage.\n",
        "* ###### The odds of Type 2 Diabetes are 0.862 times lower in Student than employed with wage, but because the p-value is not significant 0.249 greater than 0.05 the difference is not significant or important.\n",
        "* ###### The odds of Type 2 Diabetes are 2.519 times higher in Retired than employed with wage.\n",
        "* ###### The odds of Type 2 Diabetes are 4.481 times higher in the Unable than employed with wage."
      ]
    },
    {
      "cell_type": "markdown",
      "metadata": {
        "id": "yiMbAgVAz27B"
      },
      "source": [
        "##### For the purpose of modeling and reduce complexity, I will merge Wages, SelfE, and Student because their p-values are not significant"
      ]
    },
    {
      "cell_type": "code",
      "metadata": {
        "id": "bqFQB6ZMz27C"
      },
      "source": [
        "df['Employment'] = np.where((df.Employment == 'Wages'), 'Working or Student',df.Employment)\n",
        "df['Employment'] = np.where((df.Employment == 'SelfE'), 'Working or Student',df.Employment)\n",
        "df['Employment'] = np.where((df.Employment == 'Student'), 'Working or Student',df.Employment)"
      ],
      "execution_count": null,
      "outputs": []
    },
    {
      "cell_type": "code",
      "metadata": {
        "id": "bx8k7JP3z27C",
        "outputId": "6372d7f6-5e87-495f-d12e-545b2518db54"
      },
      "source": [
        "pd.crosstab(df['Diabetes'], df['Employment'])"
      ],
      "execution_count": null,
      "outputs": [
        {
          "output_type": "execute_result",
          "data": {
            "text/html": [
              "<div>\n",
              "<style scoped>\n",
              "    .dataframe tbody tr th:only-of-type {\n",
              "        vertical-align: middle;\n",
              "    }\n",
              "\n",
              "    .dataframe tbody tr th {\n",
              "        vertical-align: top;\n",
              "    }\n",
              "\n",
              "    .dataframe thead th {\n",
              "        text-align: right;\n",
              "    }\n",
              "</style>\n",
              "<table border=\"1\" class=\"dataframe\">\n",
              "  <thead>\n",
              "    <tr style=\"text-align: right;\">\n",
              "      <th>Employment</th>\n",
              "      <th>Homemaker</th>\n",
              "      <th>Retired</th>\n",
              "      <th>Unable</th>\n",
              "      <th>Unemployed</th>\n",
              "      <th>Working or Student</th>\n",
              "    </tr>\n",
              "    <tr>\n",
              "      <th>Diabetes</th>\n",
              "      <th></th>\n",
              "      <th></th>\n",
              "      <th></th>\n",
              "      <th></th>\n",
              "      <th></th>\n",
              "    </tr>\n",
              "  </thead>\n",
              "  <tbody>\n",
              "    <tr>\n",
              "      <th>No</th>\n",
              "      <td>8515</td>\n",
              "      <td>66221</td>\n",
              "      <td>12378</td>\n",
              "      <td>6185</td>\n",
              "      <td>113605</td>\n",
              "    </tr>\n",
              "    <tr>\n",
              "      <th>Yes</th>\n",
              "      <td>1308</td>\n",
              "      <td>18527</td>\n",
              "      <td>6162</td>\n",
              "      <td>1282</td>\n",
              "      <td>12504</td>\n",
              "    </tr>\n",
              "  </tbody>\n",
              "</table>\n",
              "</div>"
            ],
            "text/plain": [
              "Employment  Homemaker  Retired  Unable  Unemployed  Working or Student\n",
              "Diabetes                                                              \n",
              "No               8515    66221   12378        6185              113605\n",
              "Yes              1308    18527    6162        1282               12504"
            ]
          },
          "metadata": {
            "tags": []
          },
          "execution_count": 72
        }
      ]
    },
    {
      "cell_type": "code",
      "metadata": {
        "colab": {
          "base_uri": "https://localhost:8080/",
          "height": 339
        },
        "id": "RgGpl5x0OU5j",
        "outputId": "878deec8-a39a-4923-cf18-b0e475faa7f8"
      },
      "source": [
        "plt.figure(figsize = (8, 5))\n",
        "sns.histplot(data = df, x = 'Employment', hue = 'Diabetes', multiple=\"stack\", palette=['#DBDADB', '#C12E14'])\n",
        "plt.show()"
      ],
      "execution_count": null,
      "outputs": [
        {
          "output_type": "display_data",
          "data": {
            "image/png": "[encoded data removed]",
            "text/plain": [
              "<Figure size 576x360 with 1 Axes>"
            ]
          },
          "metadata": {
            "tags": []
          }
        }
      ]
    },
    {
      "cell_type": "markdown",
      "metadata": {
        "id": "tpqL-BhzOU5k"
      },
      "source": [
        "#### Variable Depression"
      ]
    },
    {
      "cell_type": "code",
      "metadata": {
        "id": "irB-arvjOU5k"
      },
      "source": [
        "df['Depression'] = pd.cut(df['Depression'], [0, 1, 2], labels = ['Yes', 'No'])"
      ],
      "execution_count": null,
      "outputs": []
    },
    {
      "cell_type": "code",
      "metadata": {
        "colab": {
          "base_uri": "https://localhost:8080/",
          "height": 141
        },
        "id": "vvMNWIf5OU5l",
        "outputId": "c7f66c35-09a6-4e6f-b45d-ed9394fff320"
      },
      "source": [
        "pd.crosstab(df['Diabetes'], df['Depression'])"
      ],
      "execution_count": null,
      "outputs": [
        {
          "output_type": "execute_result",
          "data": {
            "text/html": [
              "<div>\n",
              "<style scoped>\n",
              "    .dataframe tbody tr th:only-of-type {\n",
              "        vertical-align: middle;\n",
              "    }\n",
              "\n",
              "    .dataframe tbody tr th {\n",
              "        vertical-align: top;\n",
              "    }\n",
              "\n",
              "    .dataframe thead th {\n",
              "        text-align: right;\n",
              "    }\n",
              "</style>\n",
              "<table border=\"1\" class=\"dataframe\">\n",
              "  <thead>\n",
              "    <tr style=\"text-align: right;\">\n",
              "      <th>Depression</th>\n",
              "      <th>Yes</th>\n",
              "      <th>No</th>\n",
              "    </tr>\n",
              "    <tr>\n",
              "      <th>Diabetes</th>\n",
              "      <th></th>\n",
              "      <th></th>\n",
              "    </tr>\n",
              "  </thead>\n",
              "  <tbody>\n",
              "    <tr>\n",
              "      <th>No</th>\n",
              "      <td>35544</td>\n",
              "      <td>171360</td>\n",
              "    </tr>\n",
              "    <tr>\n",
              "      <th>Yes</th>\n",
              "      <td>9929</td>\n",
              "      <td>29854</td>\n",
              "    </tr>\n",
              "  </tbody>\n",
              "</table>\n",
              "</div>"
            ],
            "text/plain": [
              "Depression    Yes      No\n",
              "Diabetes                 \n",
              "No          35544  171360\n",
              "Yes          9929   29854"
            ]
          },
          "metadata": {
            "tags": []
          },
          "execution_count": 71
        }
      ]
    },
    {
      "cell_type": "code",
      "metadata": {
        "colab": {
          "base_uri": "https://localhost:8080/"
        },
        "id": "Y9dk59FAnfEB",
        "outputId": "66f20d55-fd7f-45c3-d8bf-bfd98c4aa7a6"
      },
      "source": [
        "oddDp, pvalueDp = stats.fisher_exact([[9929, 29854], [35584, 171360]])\n",
        "print('oddDp=%.3f, pvalueDp=%.3f' % (oddDp, pvalueDp))"
      ],
      "execution_count": null,
      "outputs": [
        {
          "output_type": "stream",
          "text": [
            "oddDp=1.602, pvalueDp=0.000\n"
          ],
          "name": "stdout"
        }
      ]
    },
    {
      "cell_type": "markdown",
      "metadata": {
        "id": "CyPA9_Stz27F"
      },
      "source": [
        "##### The odds of Type 2 Diabetes are 1.602 times higher in people with Depression than people without it."
      ]
    },
    {
      "cell_type": "code",
      "metadata": {
        "colab": {
          "base_uri": "https://localhost:8080/",
          "height": 285
        },
        "id": "Bzuj8fEZOU5l",
        "outputId": "8a638fb8-a220-4ca0-a18d-faeb3b8eb6a6"
      },
      "source": [
        "sns.histplot(data = df, x = 'Depression', hue = 'Diabetes', multiple=\"stack\", palette=['#DBDADB', '#C12E14'])\n",
        "plt.show()"
      ],
      "execution_count": null,
      "outputs": [
        {
          "output_type": "display_data",
          "data": {
            "image/png": "[encoded data removed]",
            "text/plain": [
              "<Figure size 432x288 with 1 Axes>"
            ]
          },
          "metadata": {
            "tags": []
          }
        }
      ]
    },
    {
      "cell_type": "markdown",
      "metadata": {
        "id": "1sRIzy42OU5m"
      },
      "source": [
        "##### Variable about housing situation"
      ]
    },
    {
      "cell_type": "code",
      "metadata": {
        "id": "gZrKgHjnOU5m"
      },
      "source": [
        "df['Housing'] = pd.cut(df['Housing'], [0, 1, 2, 3], labels = ['Own', 'Rent', 'Other'])"
      ],
      "execution_count": null,
      "outputs": []
    },
    {
      "cell_type": "code",
      "metadata": {
        "colab": {
          "base_uri": "https://localhost:8080/",
          "height": 141
        },
        "id": "tNp0tvKZOU5n",
        "outputId": "3f3c6736-236a-4f61-b205-570ee1b686b6"
      },
      "source": [
        "pd.crosstab(df['Diabetes'], df['Housing'])"
      ],
      "execution_count": null,
      "outputs": [
        {
          "output_type": "execute_result",
          "data": {
            "text/html": [
              "<div>\n",
              "<style scoped>\n",
              "    .dataframe tbody tr th:only-of-type {\n",
              "        vertical-align: middle;\n",
              "    }\n",
              "\n",
              "    .dataframe tbody tr th {\n",
              "        vertical-align: top;\n",
              "    }\n",
              "\n",
              "    .dataframe thead th {\n",
              "        text-align: right;\n",
              "    }\n",
              "</style>\n",
              "<table border=\"1\" class=\"dataframe\">\n",
              "  <thead>\n",
              "    <tr style=\"text-align: right;\">\n",
              "      <th>Housing</th>\n",
              "      <th>Own</th>\n",
              "      <th>Rent</th>\n",
              "      <th>Other</th>\n",
              "    </tr>\n",
              "    <tr>\n",
              "      <th>Diabetes</th>\n",
              "      <th></th>\n",
              "      <th></th>\n",
              "      <th></th>\n",
              "    </tr>\n",
              "  </thead>\n",
              "  <tbody>\n",
              "    <tr>\n",
              "      <th>No</th>\n",
              "      <td>167252</td>\n",
              "      <td>35178</td>\n",
              "      <td>4474</td>\n",
              "    </tr>\n",
              "    <tr>\n",
              "      <th>Yes</th>\n",
              "      <td>29498</td>\n",
              "      <td>8978</td>\n",
              "      <td>1307</td>\n",
              "    </tr>\n",
              "  </tbody>\n",
              "</table>\n",
              "</div>"
            ],
            "text/plain": [
              "Housing      Own   Rent  Other\n",
              "Diabetes                      \n",
              "No        167252  35178   4474\n",
              "Yes        29498   8978   1307"
            ]
          },
          "metadata": {
            "tags": []
          },
          "execution_count": 74
        }
      ]
    },
    {
      "cell_type": "code",
      "metadata": {
        "colab": {
          "base_uri": "https://localhost:8080/"
        },
        "id": "zZE5i3wqoUCW",
        "outputId": "72004f85-6db4-48ae-a0e5-066d72001e20"
      },
      "source": [
        "oddHr, pvalueHr = stats.fisher_exact([[8978, 29498], [35178, 167252]])\n",
        "oddHo, pvalueHo = stats.fisher_exact([[1307, 29498], [4474, 167252]])\n",
        "print('oddHr=%.3f, pvalueHr=%.3f, oddHo=%.3f, pvalueHo=%.3f' % (oddHr, pvalueHr, oddHo, pvalueHo))"
      ],
      "execution_count": null,
      "outputs": [
        {
          "output_type": "stream",
          "text": [
            "oddHr=1.447, pvalueHr=0.000, oddHo=1.656, pvalueHo=0.000\n"
          ],
          "name": "stdout"
        }
      ]
    },
    {
      "cell_type": "markdown",
      "metadata": {
        "id": "hdeNvlTaz27G"
      },
      "source": [
        "##### Interpreting the odds ratio and p-values\n",
        "* ###### The odds of Type 2 Diabetes are 1.447 times higher in people who rent than in people who own their houses.\n",
        "* ###### The odds of Type 2 Diabetes are 1.656 times higher in people who housing situation is other than in people who own their houses.\n",
        "* ###### All p-values are significant."
      ]
    },
    {
      "cell_type": "markdown",
      "metadata": {
        "id": "q5NYJDppz27G"
      },
      "source": [
        "I will combine Rent and Other"
      ]
    },
    {
      "cell_type": "code",
      "metadata": {
        "id": "vi8Q8l5Gz27H"
      },
      "source": [
        "df['Housing'] = np.where((df.Housing == 'Rent'), 'Rent or Other',df.Housing)\n",
        "df['Housing'] = np.where((df.Housing == 'Other'), 'Rent or Other',df.Housing)"
      ],
      "execution_count": null,
      "outputs": []
    },
    {
      "cell_type": "code",
      "metadata": {
        "id": "Js06cmN7z27H",
        "outputId": "76770c91-d8f0-4b81-8943-c8d2065369fe"
      },
      "source": [
        "pd.crosstab(df['Diabetes'], df['Housing'])"
      ],
      "execution_count": null,
      "outputs": [
        {
          "output_type": "execute_result",
          "data": {
            "text/html": [
              "<div>\n",
              "<style scoped>\n",
              "    .dataframe tbody tr th:only-of-type {\n",
              "        vertical-align: middle;\n",
              "    }\n",
              "\n",
              "    .dataframe tbody tr th {\n",
              "        vertical-align: top;\n",
              "    }\n",
              "\n",
              "    .dataframe thead th {\n",
              "        text-align: right;\n",
              "    }\n",
              "</style>\n",
              "<table border=\"1\" class=\"dataframe\">\n",
              "  <thead>\n",
              "    <tr style=\"text-align: right;\">\n",
              "      <th>Housing</th>\n",
              "      <th>Own</th>\n",
              "      <th>Rent or Other</th>\n",
              "    </tr>\n",
              "    <tr>\n",
              "      <th>Diabetes</th>\n",
              "      <th></th>\n",
              "      <th></th>\n",
              "    </tr>\n",
              "  </thead>\n",
              "  <tbody>\n",
              "    <tr>\n",
              "      <th>No</th>\n",
              "      <td>167252</td>\n",
              "      <td>39652</td>\n",
              "    </tr>\n",
              "    <tr>\n",
              "      <th>Yes</th>\n",
              "      <td>29498</td>\n",
              "      <td>10285</td>\n",
              "    </tr>\n",
              "  </tbody>\n",
              "</table>\n",
              "</div>"
            ],
            "text/plain": [
              "Housing      Own  Rent or Other\n",
              "Diabetes                       \n",
              "No        167252          39652\n",
              "Yes        29498          10285"
            ]
          },
          "metadata": {
            "tags": []
          },
          "execution_count": 77
        }
      ]
    },
    {
      "cell_type": "code",
      "metadata": {
        "colab": {
          "base_uri": "https://localhost:8080/",
          "height": 285
        },
        "id": "LTU602McOU5n",
        "outputId": "140ac2d1-5649-410c-fd47-642ba3c5ffbe"
      },
      "source": [
        "sns.histplot(data = df, x = 'Housing', hue = 'Diabetes', multiple=\"stack\", palette=['#DBDADB', '#C12E14'])\n",
        "plt.show()"
      ],
      "execution_count": null,
      "outputs": [
        {
          "output_type": "display_data",
          "data": {
            "image/png": "[encoded data removed]",
            "text/plain": [
              "<Figure size 432x288 with 1 Axes>"
            ]
          },
          "metadata": {
            "tags": []
          }
        }
      ]
    },
    {
      "cell_type": "markdown",
      "metadata": {
        "id": "JMsxiS8zOU5o"
      },
      "source": [
        "##### Variable did you participate in physical activity "
      ]
    },
    {
      "cell_type": "code",
      "metadata": {
        "id": "mfUsVjjeOU5o"
      },
      "source": [
        "df['PartExercise'] = pd.cut(df['PartExercise'],[0, 1, 2],  labels = ['Yes', 'No'])"
      ],
      "execution_count": null,
      "outputs": []
    },
    {
      "cell_type": "code",
      "metadata": {
        "colab": {
          "base_uri": "https://localhost:8080/",
          "height": 141
        },
        "id": "QnA8yl0BOU5o",
        "outputId": "6e929829-fcc9-49f2-e5d6-62d12e24051e"
      },
      "source": [
        "pd.crosstab(df['Diabetes'], df['PartExercise'])"
      ],
      "execution_count": null,
      "outputs": [
        {
          "output_type": "execute_result",
          "data": {
            "text/html": [
              "<div>\n",
              "<style scoped>\n",
              "    .dataframe tbody tr th:only-of-type {\n",
              "        vertical-align: middle;\n",
              "    }\n",
              "\n",
              "    .dataframe tbody tr th {\n",
              "        vertical-align: top;\n",
              "    }\n",
              "\n",
              "    .dataframe thead th {\n",
              "        text-align: right;\n",
              "    }\n",
              "</style>\n",
              "<table border=\"1\" class=\"dataframe\">\n",
              "  <thead>\n",
              "    <tr style=\"text-align: right;\">\n",
              "      <th>PartExercise</th>\n",
              "      <th>Yes</th>\n",
              "      <th>No</th>\n",
              "    </tr>\n",
              "    <tr>\n",
              "      <th>Diabetes</th>\n",
              "      <th></th>\n",
              "      <th></th>\n",
              "    </tr>\n",
              "  </thead>\n",
              "  <tbody>\n",
              "    <tr>\n",
              "      <th>No</th>\n",
              "      <td>161667</td>\n",
              "      <td>45237</td>\n",
              "    </tr>\n",
              "    <tr>\n",
              "      <th>Yes</th>\n",
              "      <td>24814</td>\n",
              "      <td>14969</td>\n",
              "    </tr>\n",
              "  </tbody>\n",
              "</table>\n",
              "</div>"
            ],
            "text/plain": [
              "PartExercise     Yes     No\n",
              "Diabetes                   \n",
              "No            161667  45237\n",
              "Yes            24814  14969"
            ]
          },
          "metadata": {
            "tags": []
          },
          "execution_count": 79
        }
      ]
    },
    {
      "cell_type": "code",
      "metadata": {
        "colab": {
          "base_uri": "https://localhost:8080/"
        },
        "id": "lWcx1Ej-qTeb",
        "outputId": "a2d662cc-0936-473b-c91f-7da2b10c6d78"
      },
      "source": [
        "oddPe, pvaluePe = stats.fisher_exact([[14969, 24814], [45237, 161667]])\n",
        "print('oddPe=%.3f, pvaluePe=%.3f' % (oddPe, pvaluePe))"
      ],
      "execution_count": null,
      "outputs": [
        {
          "output_type": "stream",
          "text": [
            "oddPe=2.156, pvaluePe=0.000\n"
          ],
          "name": "stdout"
        }
      ]
    },
    {
      "cell_type": "markdown",
      "metadata": {
        "id": "Q_hHVptlz27J"
      },
      "source": [
        "##### The odds of Type 2 Diabetes are 2.156 times higher in people who didn't participate in physical activity than in people who did."
      ]
    },
    {
      "cell_type": "code",
      "metadata": {
        "colab": {
          "base_uri": "https://localhost:8080/",
          "height": 285
        },
        "id": "3o34VMnpOU5p",
        "outputId": "048702f3-c708-44a6-c0e2-9a2e264aa182"
      },
      "source": [
        "sns.histplot(data = df, x = 'PartExercise', hue = 'Diabetes', multiple=\"stack\", palette=['#DBDADB', '#C12E14'])\n",
        "plt.show()"
      ],
      "execution_count": null,
      "outputs": [
        {
          "output_type": "display_data",
          "data": {
            "image/png": "[encoded data removed]",
            "text/plain": [
              "<Figure size 432x288 with 1 Axes>"
            ]
          },
          "metadata": {
            "tags": []
          }
        }
      ]
    },
    {
      "cell_type": "markdown",
      "metadata": {
        "id": "Y5Y4cOSiOU5q"
      },
      "source": [
        "##### Variable are you blind or do you have serious difficulty seeing, even when wearing glasses?"
      ]
    },
    {
      "cell_type": "code",
      "metadata": {
        "id": "qFZcJkHrOU5q"
      },
      "source": [
        "df['Vision'] = pd.cut(df['Vision'], [0, 1, 2], labels = ['Yes', 'No'])"
      ],
      "execution_count": null,
      "outputs": []
    },
    {
      "cell_type": "code",
      "metadata": {
        "colab": {
          "base_uri": "https://localhost:8080/",
          "height": 141
        },
        "id": "SRqwogW6OU5q",
        "outputId": "34a62b39-cfc8-4c55-8e85-aecc36329cbe"
      },
      "source": [
        "pd.crosstab(df['Diabetes'], df['Vision'])"
      ],
      "execution_count": null,
      "outputs": [
        {
          "output_type": "execute_result",
          "data": {
            "text/html": [
              "<div>\n",
              "<style scoped>\n",
              "    .dataframe tbody tr th:only-of-type {\n",
              "        vertical-align: middle;\n",
              "    }\n",
              "\n",
              "    .dataframe tbody tr th {\n",
              "        vertical-align: top;\n",
              "    }\n",
              "\n",
              "    .dataframe thead th {\n",
              "        text-align: right;\n",
              "    }\n",
              "</style>\n",
              "<table border=\"1\" class=\"dataframe\">\n",
              "  <thead>\n",
              "    <tr style=\"text-align: right;\">\n",
              "      <th>Vision</th>\n",
              "      <th>Yes</th>\n",
              "      <th>No</th>\n",
              "    </tr>\n",
              "    <tr>\n",
              "      <th>Diabetes</th>\n",
              "      <th></th>\n",
              "      <th></th>\n",
              "    </tr>\n",
              "  </thead>\n",
              "  <tbody>\n",
              "    <tr>\n",
              "      <th>No</th>\n",
              "      <td>8804</td>\n",
              "      <td>198100</td>\n",
              "    </tr>\n",
              "    <tr>\n",
              "      <th>Yes</th>\n",
              "      <td>3844</td>\n",
              "      <td>35939</td>\n",
              "    </tr>\n",
              "  </tbody>\n",
              "</table>\n",
              "</div>"
            ],
            "text/plain": [
              "Vision     Yes      No\n",
              "Diabetes              \n",
              "No        8804  198100\n",
              "Yes       3844   35939"
            ]
          },
          "metadata": {
            "tags": []
          },
          "execution_count": 82
        }
      ]
    },
    {
      "cell_type": "code",
      "metadata": {
        "colab": {
          "base_uri": "https://localhost:8080/"
        },
        "id": "RhSeipVariAa",
        "outputId": "6d2a86fa-2f03-44de-dd07-8a7cb0050e63"
      },
      "source": [
        "oddV, pvalueV = stats.fisher_exact([[3844, 35939], [8804, 198100]])\n",
        "print('oddV=%.3f, pvalueV=%.3f' % (oddV, pvalueV))"
      ],
      "execution_count": null,
      "outputs": [
        {
          "output_type": "stream",
          "text": [
            "oddV=2.407, pvalueV=0.000\n"
          ],
          "name": "stdout"
        }
      ]
    },
    {
      "cell_type": "markdown",
      "metadata": {
        "id": "Uo59HzUWz27K"
      },
      "source": [
        "##### The odds of Type 2 Diabetes are 2.407 higher in people who have serious difficulty seeing than people who did not."
      ]
    },
    {
      "cell_type": "code",
      "metadata": {
        "colab": {
          "base_uri": "https://localhost:8080/",
          "height": 285
        },
        "id": "8Ubx0fEjOU5r",
        "outputId": "5a0fa09e-9dc2-443c-8b72-8cb50bbb729f"
      },
      "source": [
        "sns.histplot(data = df, x = 'Vision', hue = 'Diabetes', multiple=\"stack\", palette=['#DBDADB', '#C12E14'])\n",
        "plt.show()"
      ],
      "execution_count": null,
      "outputs": [
        {
          "output_type": "display_data",
          "data": {
            "image/png": "[encoded data removed]",
            "text/plain": [
              "<Figure size 432x288 with 1 Axes>"
            ]
          },
          "metadata": {
            "tags": []
          }
        }
      ]
    },
    {
      "cell_type": "markdown",
      "metadata": {
        "id": "INg9BGRSOU5s"
      },
      "source": [
        "##### Variable about smoking"
      ]
    },
    {
      "cell_type": "code",
      "metadata": {
        "id": "matOKASIOU5s"
      },
      "source": [
        "df['Smoke'] = pd.cut(df['Smoke'], [0, 1, 2, 3, 4], labels = ['Smoke daily', 'Smoke some days', 'Quit', 'Never Smoke'])"
      ],
      "execution_count": null,
      "outputs": []
    },
    {
      "cell_type": "code",
      "metadata": {
        "colab": {
          "base_uri": "https://localhost:8080/",
          "height": 141
        },
        "id": "2TIr61vLOU5s",
        "outputId": "59e3b81e-1f8b-471f-c85f-67de27bf3591"
      },
      "source": [
        "pd.crosstab(df['Diabetes'], df['Smoke'])"
      ],
      "execution_count": null,
      "outputs": [
        {
          "output_type": "execute_result",
          "data": {
            "text/html": [
              "<div>\n",
              "<style scoped>\n",
              "    .dataframe tbody tr th:only-of-type {\n",
              "        vertical-align: middle;\n",
              "    }\n",
              "\n",
              "    .dataframe tbody tr th {\n",
              "        vertical-align: top;\n",
              "    }\n",
              "\n",
              "    .dataframe thead th {\n",
              "        text-align: right;\n",
              "    }\n",
              "</style>\n",
              "<table border=\"1\" class=\"dataframe\">\n",
              "  <thead>\n",
              "    <tr style=\"text-align: right;\">\n",
              "      <th>Smoke</th>\n",
              "      <th>Smoke daily</th>\n",
              "      <th>Smoke some days</th>\n",
              "      <th>Quit</th>\n",
              "      <th>Never Smoke</th>\n",
              "    </tr>\n",
              "    <tr>\n",
              "      <th>Diabetes</th>\n",
              "      <th></th>\n",
              "      <th></th>\n",
              "      <th></th>\n",
              "      <th></th>\n",
              "    </tr>\n",
              "  </thead>\n",
              "  <tbody>\n",
              "    <tr>\n",
              "      <th>No</th>\n",
              "      <td>21483</td>\n",
              "      <td>8058</td>\n",
              "      <td>63791</td>\n",
              "      <td>113572</td>\n",
              "    </tr>\n",
              "    <tr>\n",
              "      <th>Yes</th>\n",
              "      <td>4056</td>\n",
              "      <td>1408</td>\n",
              "      <td>14782</td>\n",
              "      <td>19537</td>\n",
              "    </tr>\n",
              "  </tbody>\n",
              "</table>\n",
              "</div>"
            ],
            "text/plain": [
              "Smoke     Smoke daily  Smoke some days   Quit  Never Smoke\n",
              "Diabetes                                                  \n",
              "No              21483             8058  63791       113572\n",
              "Yes              4056             1408  14782        19537"
            ]
          },
          "metadata": {
            "tags": []
          },
          "execution_count": 85
        }
      ]
    },
    {
      "cell_type": "code",
      "metadata": {
        "colab": {
          "base_uri": "https://localhost:8080/"
        },
        "id": "N0udGNVXZ1fq",
        "outputId": "05dc30be-4936-4bc5-bcb5-b667e21ef74d"
      },
      "source": [
        "oddSd, pvalueSd = stats.fisher_exact([[4056, 19537], [21483, 113572]])\n",
        "oddSq, pvalueSq = stats.fisher_exact([[1408, 19537], [8058, 113572]])\n",
        "oddSn, pvalueSn = stats.fisher_exact([[14782, 19537], [63791, 113572]])\n",
        "\n",
        "print('oddSd=%.3f, pvalueSd=%.3f, oddSq=%.3f, pvalueSq=%.3f, oddSn=%.3f, pvalueSn=%.3f' % (oddSd, pvalueSd, oddSq, pvalueSq, oddSn, pvalueSn))"
      ],
      "execution_count": null,
      "outputs": [
        {
          "output_type": "stream",
          "text": [
            "oddSd=1.098, pvalueSd=0.000, oddSq=1.016, pvalueSq=0.599, oddSn=1.347, pvalueSn=0.000\n"
          ],
          "name": "stdout"
        }
      ]
    },
    {
      "cell_type": "markdown",
      "metadata": {
        "id": "JhlT0VS_z27M"
      },
      "source": [
        "##### Interpreting the odds ratio and p-values\n",
        "* ###### The odds of Type 3 Diabetes are 1.098 times higher in daily smokers than in people who never smoke.\n",
        "* ###### There is no significant differencs in odds of Type 2 Diabetes between in people who smoke some days and people who never smoke, p-value not significant.\n",
        "* ###### The odds of type 2 Diabetes are 1.347 times higher in people who Quit smoking than people who never smoke."
      ]
    },
    {
      "cell_type": "code",
      "metadata": {
        "colab": {
          "base_uri": "https://localhost:8080/",
          "height": 285
        },
        "id": "AZXWwNCCOU5t",
        "outputId": "7ea117ff-88fd-4452-9e73-cdd82275bf74"
      },
      "source": [
        "plt.figure(figsize=(8,4))\n",
        "sns.histplot(data = df, x = 'Smoke', hue = 'Diabetes', multiple=\"stack\", palette=['#DBDADB', '#C12E14'])\n",
        "plt.show()"
      ],
      "execution_count": null,
      "outputs": [
        {
          "output_type": "display_data",
          "data": {
            "image/png": "[encoded data removed]",
            "text/plain": [
              "<Figure size 576x288 with 1 Axes>"
            ]
          },
          "metadata": {
            "tags": []
          }
        }
      ]
    },
    {
      "cell_type": "markdown",
      "metadata": {
        "id": "8sFX-iuLOU5t"
      },
      "source": [
        "##### The variable asked Do you have one person you think of as your personal doctor or health care provider?"
      ]
    },
    {
      "cell_type": "code",
      "metadata": {
        "id": "XrPZrkEdOU5u"
      },
      "source": [
        "df['PCP'] = pd.cut(df['PCP'], [0, 2, 3], labels = ['Yes', 'No'])"
      ],
      "execution_count": null,
      "outputs": []
    },
    {
      "cell_type": "code",
      "metadata": {
        "colab": {
          "base_uri": "https://localhost:8080/",
          "height": 141
        },
        "id": "iGVRVpSEOU5u",
        "outputId": "7fd57dbb-3f22-4b1b-f513-9f273236bd85"
      },
      "source": [
        "pd.crosstab(df['Diabetes'], df['PCP'])"
      ],
      "execution_count": null,
      "outputs": [
        {
          "output_type": "execute_result",
          "data": {
            "text/html": [
              "<div>\n",
              "<style scoped>\n",
              "    .dataframe tbody tr th:only-of-type {\n",
              "        vertical-align: middle;\n",
              "    }\n",
              "\n",
              "    .dataframe tbody tr th {\n",
              "        vertical-align: top;\n",
              "    }\n",
              "\n",
              "    .dataframe thead th {\n",
              "        text-align: right;\n",
              "    }\n",
              "</style>\n",
              "<table border=\"1\" class=\"dataframe\">\n",
              "  <thead>\n",
              "    <tr style=\"text-align: right;\">\n",
              "      <th>PCP</th>\n",
              "      <th>Yes</th>\n",
              "      <th>No</th>\n",
              "    </tr>\n",
              "    <tr>\n",
              "      <th>Diabetes</th>\n",
              "      <th></th>\n",
              "      <th></th>\n",
              "    </tr>\n",
              "  </thead>\n",
              "  <tbody>\n",
              "    <tr>\n",
              "      <th>No</th>\n",
              "      <td>179866</td>\n",
              "      <td>27038</td>\n",
              "    </tr>\n",
              "    <tr>\n",
              "      <th>Yes</th>\n",
              "      <td>37732</td>\n",
              "      <td>2051</td>\n",
              "    </tr>\n",
              "  </tbody>\n",
              "</table>\n",
              "</div>"
            ],
            "text/plain": [
              "PCP          Yes     No\n",
              "Diabetes               \n",
              "No        179866  27038\n",
              "Yes        37732   2051"
            ]
          },
          "metadata": {
            "tags": []
          },
          "execution_count": 88
        }
      ]
    },
    {
      "cell_type": "code",
      "metadata": {
        "colab": {
          "base_uri": "https://localhost:8080/"
        },
        "id": "WyESTfDacADL",
        "outputId": "50c8d537-f410-441d-eb1a-5e73a2099938"
      },
      "source": [
        "oddPcp, pvaluePcp = stats.fisher_exact([[37732, 2051], [179866, 27038]])\n",
        "\n",
        "print('oddPcp=%.3f, pvaluePcp=%.3f' % (oddPcp, pvaluePcp))"
      ],
      "execution_count": null,
      "outputs": [
        {
          "output_type": "stream",
          "text": [
            "oddPcp=2.765, pvaluePcp=0.000\n"
          ],
          "name": "stdout"
        }
      ]
    },
    {
      "cell_type": "markdown",
      "metadata": {
        "id": "pT3HXm-jz27O"
      },
      "source": [
        "##### The odds of Type 2 Diabetes are 2.765 times higher in people who have a primary care physician than people who did not have one."
      ]
    },
    {
      "cell_type": "code",
      "metadata": {
        "colab": {
          "base_uri": "https://localhost:8080/",
          "height": 285
        },
        "id": "GDr3Q6F6OU5v",
        "outputId": "a37cab10-a981-47d1-b275-5c8152782838"
      },
      "source": [
        "sns.histplot(data = df, x = 'PCP', hue = 'Diabetes', multiple=\"stack\", palette=['#DBDADB', '#C12E14'])\n",
        "plt.show()"
      ],
      "execution_count": null,
      "outputs": [
        {
          "output_type": "display_data",
          "data": {
            "image/png": "[encoded data removed]",
            "text/plain": [
              "<Figure size 432x288 with 1 Axes>"
            ]
          },
          "metadata": {
            "tags": []
          }
        }
      ]
    },
    {
      "cell_type": "markdown",
      "metadata": {
        "id": "ajrM5--ZOU5v"
      },
      "source": [
        "##### The variable Stroke"
      ]
    },
    {
      "cell_type": "code",
      "metadata": {
        "id": "MptJ5m0EOU5w"
      },
      "source": [
        "df['Stroke'] = pd.cut(df['Stroke'], [0, 1, 2], labels = ['Yes', 'No'])"
      ],
      "execution_count": null,
      "outputs": []
    },
    {
      "cell_type": "code",
      "metadata": {
        "colab": {
          "base_uri": "https://localhost:8080/",
          "height": 141
        },
        "id": "LIyc-m8SOU5w",
        "outputId": "823ba289-bff4-40a3-9e0e-4cd14c83969b"
      },
      "source": [
        "pd.crosstab(df['Diabetes'], df['Stroke'])"
      ],
      "execution_count": null,
      "outputs": [
        {
          "output_type": "execute_result",
          "data": {
            "text/html": [
              "<div>\n",
              "<style scoped>\n",
              "    .dataframe tbody tr th:only-of-type {\n",
              "        vertical-align: middle;\n",
              "    }\n",
              "\n",
              "    .dataframe tbody tr th {\n",
              "        vertical-align: top;\n",
              "    }\n",
              "\n",
              "    .dataframe thead th {\n",
              "        text-align: right;\n",
              "    }\n",
              "</style>\n",
              "<table border=\"1\" class=\"dataframe\">\n",
              "  <thead>\n",
              "    <tr style=\"text-align: right;\">\n",
              "      <th>Stroke</th>\n",
              "      <th>Yes</th>\n",
              "      <th>No</th>\n",
              "    </tr>\n",
              "    <tr>\n",
              "      <th>Diabetes</th>\n",
              "      <th></th>\n",
              "      <th></th>\n",
              "    </tr>\n",
              "  </thead>\n",
              "  <tbody>\n",
              "    <tr>\n",
              "      <th>No</th>\n",
              "      <td>7670</td>\n",
              "      <td>199234</td>\n",
              "    </tr>\n",
              "    <tr>\n",
              "      <th>Yes</th>\n",
              "      <td>3968</td>\n",
              "      <td>35815</td>\n",
              "    </tr>\n",
              "  </tbody>\n",
              "</table>\n",
              "</div>"
            ],
            "text/plain": [
              "Stroke     Yes      No\n",
              "Diabetes              \n",
              "No        7670  199234\n",
              "Yes       3968   35815"
            ]
          },
          "metadata": {
            "tags": []
          },
          "execution_count": 91
        }
      ]
    },
    {
      "cell_type": "code",
      "metadata": {
        "colab": {
          "base_uri": "https://localhost:8080/"
        },
        "id": "DvysKraUc82A",
        "outputId": "96503fb9-c500-4804-b928-857481bb2739"
      },
      "source": [
        "oddStr, pvalueStr = stats.fisher_exact([[3968, 35815], [7670, 199234]])\n",
        "\n",
        "print('oddStr=%.3f, pvalueStr=%.3f' % (oddStr, pvalueStr))"
      ],
      "execution_count": null,
      "outputs": [
        {
          "output_type": "stream",
          "text": [
            "oddStr=2.878, pvalueStr=0.000\n"
          ],
          "name": "stdout"
        }
      ]
    },
    {
      "cell_type": "markdown",
      "metadata": {
        "id": "3VCZDKJQz27Q"
      },
      "source": [
        "##### The odds of Type 2 Diabetes are 2.878 times higher in people who had stroke than people who did not."
      ]
    },
    {
      "cell_type": "code",
      "metadata": {
        "colab": {
          "base_uri": "https://localhost:8080/",
          "height": 285
        },
        "id": "Reu_Vn2xOU5x",
        "outputId": "bb1f3929-a969-4d0b-8669-410521a847b9"
      },
      "source": [
        "sns.histplot(data = df, x = 'Stroke', hue = 'Diabetes', multiple=\"stack\", palette=['#DBDADB', '#C12E14'])\n",
        "plt.show()"
      ],
      "execution_count": null,
      "outputs": [
        {
          "output_type": "display_data",
          "data": {
            "image/png": "[encoded data removed]",
            "text/plain": [
              "<Figure size 432x288 with 1 Axes>"
            ]
          },
          "metadata": {
            "tags": []
          }
        }
      ]
    },
    {
      "cell_type": "markdown",
      "metadata": {
        "id": "Q9c7b0qDOU5x"
      },
      "source": [
        "##### The variable about teeth removed"
      ]
    },
    {
      "cell_type": "code",
      "metadata": {
        "id": "4uBn8gGOOU5x"
      },
      "source": [
        "df['RmTeeth'] = pd.cut(df['RmTeeth'], [0, 1, 2, 3, 8], labels = ['1 to 5', '6 or more', 'All', 'None'])"
      ],
      "execution_count": null,
      "outputs": []
    },
    {
      "cell_type": "code",
      "metadata": {
        "colab": {
          "base_uri": "https://localhost:8080/",
          "height": 141
        },
        "id": "GbX1yAosOU5y",
        "outputId": "3be2b3f9-8d99-43a8-bb38-cfcc820a3628"
      },
      "source": [
        "pd.crosstab(df['Diabetes'], df['RmTeeth'])"
      ],
      "execution_count": null,
      "outputs": [
        {
          "output_type": "execute_result",
          "data": {
            "text/html": [
              "<div>\n",
              "<style scoped>\n",
              "    .dataframe tbody tr th:only-of-type {\n",
              "        vertical-align: middle;\n",
              "    }\n",
              "\n",
              "    .dataframe tbody tr th {\n",
              "        vertical-align: top;\n",
              "    }\n",
              "\n",
              "    .dataframe thead th {\n",
              "        text-align: right;\n",
              "    }\n",
              "</style>\n",
              "<table border=\"1\" class=\"dataframe\">\n",
              "  <thead>\n",
              "    <tr style=\"text-align: right;\">\n",
              "      <th>RmTeeth</th>\n",
              "      <th>1 to 5</th>\n",
              "      <th>6 or more</th>\n",
              "      <th>All</th>\n",
              "      <th>None</th>\n",
              "    </tr>\n",
              "    <tr>\n",
              "      <th>Diabetes</th>\n",
              "      <th></th>\n",
              "      <th></th>\n",
              "      <th></th>\n",
              "      <th></th>\n",
              "    </tr>\n",
              "  </thead>\n",
              "  <tbody>\n",
              "    <tr>\n",
              "      <th>No</th>\n",
              "      <td>65081</td>\n",
              "      <td>24457</td>\n",
              "      <td>12742</td>\n",
              "      <td>104624</td>\n",
              "    </tr>\n",
              "    <tr>\n",
              "      <th>Yes</th>\n",
              "      <td>13464</td>\n",
              "      <td>8540</td>\n",
              "      <td>5369</td>\n",
              "      <td>12410</td>\n",
              "    </tr>\n",
              "  </tbody>\n",
              "</table>\n",
              "</div>"
            ],
            "text/plain": [
              "RmTeeth   1 to 5  6 or more    All    None\n",
              "Diabetes                                  \n",
              "No         65081      24457  12742  104624\n",
              "Yes        13464       8540   5369   12410"
            ]
          },
          "metadata": {
            "tags": []
          },
          "execution_count": 94
        }
      ]
    },
    {
      "cell_type": "code",
      "metadata": {
        "colab": {
          "base_uri": "https://localhost:8080/"
        },
        "id": "UMvCW8uweBnR",
        "outputId": "627dd2a5-dc2c-4ca1-d3ce-b5223ce7bde4"
      },
      "source": [
        "oddRm1, pvalueRm1 = stats.fisher_exact([[13464, 12410], [65081, 104624]])\n",
        "oddRm2, pvalueRm2 = stats.fisher_exact([[8540, 12410], [24457, 104624]])\n",
        "oddRm3, pvalueRm3 = stats.fisher_exact([[5369, 12410], [12742, 104624]])\n",
        "\n",
        "print('oddRm1=%.3f, pvalueRm1=%.3f, oddRm2=%.3f, pvalueRm2=%.3f, oddRm3=%.3f, pvalueRm3=%.3f' % (oddRm1, pvalueRm1, oddRm2, pvalueRm2, oddRm3, pvalueRm3))"
      ],
      "execution_count": null,
      "outputs": [
        {
          "output_type": "stream",
          "text": [
            "oddRm1=1.744, pvalueRm1=0.000, oddRm2=2.944, pvalueRm2=0.000, oddRm3=3.552, pvalueRm3=0.000\n"
          ],
          "name": "stdout"
        }
      ]
    },
    {
      "cell_type": "markdown",
      "metadata": {
        "id": "k2PdCI4Vz27S"
      },
      "source": [
        "##### Interpreting the odds ratio and p-values\n",
        "* ###### The odds of Type 2 Diabetes are 1.744 times higher in people who removed 1 to 5 teeth than people who removed none.\n",
        "* ###### The odds of Type 2 Diabetes are 2.944 (almost 3) times higher in people who removed 6 to not all teeth than people who removed none.\n",
        "* ###### The odds of Type 2 Diabetes are 3.55e times higher in people who removed all teeth than people who removed none.\n",
        "* ###### All p-values are significant.\n",
        "\n",
        "##### We can see from above that the higher the number of removed teeth, the higher are the odds of Type 2 Diabetes."
      ]
    },
    {
      "cell_type": "code",
      "metadata": {
        "colab": {
          "base_uri": "https://localhost:8080/",
          "height": 285
        },
        "id": "nVdMDpVfOU5y",
        "outputId": "d59c69cd-69d1-4f09-d8f4-1a67c7e97b82"
      },
      "source": [
        "sns.histplot(data = df, x = 'RmTeeth', hue = 'Diabetes', multiple=\"stack\", palette=['#DBDADB', '#C12E14'])\n",
        "plt.show()"
      ],
      "execution_count": null,
      "outputs": [
        {
          "output_type": "display_data",
          "data": {
            "image/png": "[encoded data removed]",
            "text/plain": [
              "<Figure size 432x288 with 1 Axes>"
            ]
          },
          "metadata": {
            "tags": []
          }
        }
      ]
    },
    {
      "cell_type": "markdown",
      "metadata": {
        "id": "JmuA_z7MOU5z"
      },
      "source": [
        "##### Variable about Metropolitan status"
      ]
    },
    {
      "cell_type": "code",
      "metadata": {
        "id": "k-7VeCm1OU5z"
      },
      "source": [
        "df['Metrop'] = pd.cut(df['Metrop'], [0, 1, 2], labels = ['Yes', 'No'])"
      ],
      "execution_count": null,
      "outputs": []
    },
    {
      "cell_type": "code",
      "metadata": {
        "colab": {
          "base_uri": "https://localhost:8080/",
          "height": 141
        },
        "id": "YWCXBLFuOU50",
        "outputId": "6f8959a2-b482-4afa-f500-8be4698cab43"
      },
      "source": [
        "pd.crosstab(df['Diabetes'], df['Metrop'])"
      ],
      "execution_count": null,
      "outputs": [
        {
          "output_type": "execute_result",
          "data": {
            "text/html": [
              "<div>\n",
              "<style scoped>\n",
              "    .dataframe tbody tr th:only-of-type {\n",
              "        vertical-align: middle;\n",
              "    }\n",
              "\n",
              "    .dataframe tbody tr th {\n",
              "        vertical-align: top;\n",
              "    }\n",
              "\n",
              "    .dataframe thead th {\n",
              "        text-align: right;\n",
              "    }\n",
              "</style>\n",
              "<table border=\"1\" class=\"dataframe\">\n",
              "  <thead>\n",
              "    <tr style=\"text-align: right;\">\n",
              "      <th>Metrop</th>\n",
              "      <th>Yes</th>\n",
              "      <th>No</th>\n",
              "    </tr>\n",
              "    <tr>\n",
              "      <th>Diabetes</th>\n",
              "      <th></th>\n",
              "      <th></th>\n",
              "    </tr>\n",
              "  </thead>\n",
              "  <tbody>\n",
              "    <tr>\n",
              "      <th>No</th>\n",
              "      <td>140618</td>\n",
              "      <td>66286</td>\n",
              "    </tr>\n",
              "    <tr>\n",
              "      <th>Yes</th>\n",
              "      <td>26032</td>\n",
              "      <td>13751</td>\n",
              "    </tr>\n",
              "  </tbody>\n",
              "</table>\n",
              "</div>"
            ],
            "text/plain": [
              "Metrop       Yes     No\n",
              "Diabetes               \n",
              "No        140618  66286\n",
              "Yes        26032  13751"
            ]
          },
          "metadata": {
            "tags": []
          },
          "execution_count": 97
        }
      ]
    },
    {
      "cell_type": "code",
      "metadata": {
        "colab": {
          "base_uri": "https://localhost:8080/"
        },
        "id": "vVe_LrH-gfzf",
        "outputId": "2693f41c-9266-405c-a09a-bcbff15982b1"
      },
      "source": [
        "oddMet, pvalueMet = stats.fisher_exact([[13751, 26032], [66286, 140618]])\n",
        "\n",
        "print('oddMet=%.3f, pvalueMet=%.3f' % (oddMet, pvalueMet))"
      ],
      "execution_count": null,
      "outputs": [
        {
          "output_type": "stream",
          "text": [
            "oddMet=1.121, pvalueMet=0.000\n"
          ],
          "name": "stdout"
        }
      ]
    },
    {
      "cell_type": "markdown",
      "metadata": {
        "id": "on-x4NmYz27T"
      },
      "source": [
        "##### The odds of Type 2 Diabetes are 1.121 higher in Metropolitan area than not."
      ]
    },
    {
      "cell_type": "code",
      "metadata": {
        "colab": {
          "base_uri": "https://localhost:8080/",
          "height": 285
        },
        "id": "DrnouTa0OU50",
        "outputId": "e94a2684-5848-4e6c-9d81-6abd15a5d4e6"
      },
      "source": [
        "sns.histplot(data = df, x = 'Metrop', hue = 'Diabetes', multiple=\"stack\", palette=['#DBDADB', '#C12E14'])\n",
        "plt.show()"
      ],
      "execution_count": null,
      "outputs": [
        {
          "output_type": "display_data",
          "data": {
            "image/png": "[encoded data removed]",
            "text/plain": [
              "<Figure size 432x288 with 1 Axes>"
            ]
          },
          "metadata": {
            "tags": []
          }
        }
      ]
    },
    {
      "cell_type": "markdown",
      "metadata": {
        "id": "et6ivGTEz27W"
      },
      "source": [
        "##### Variable Asthma"
      ]
    },
    {
      "cell_type": "code",
      "metadata": {
        "id": "_PSCvi_rOU51"
      },
      "source": [
        "df['Asthma'] = pd.cut(df['Asthma'], [0, 1, 2], labels = ['No', 'Yes'])"
      ],
      "execution_count": null,
      "outputs": []
    },
    {
      "cell_type": "code",
      "metadata": {
        "colab": {
          "base_uri": "https://localhost:8080/",
          "height": 141
        },
        "id": "E3M9P5OyOU51",
        "outputId": "c30a78a8-98f8-47e1-a54c-d2437282b079"
      },
      "source": [
        "pd.crosstab(df['Diabetes'], df['Asthma'])"
      ],
      "execution_count": null,
      "outputs": [
        {
          "output_type": "execute_result",
          "data": {
            "text/html": [
              "<div>\n",
              "<style scoped>\n",
              "    .dataframe tbody tr th:only-of-type {\n",
              "        vertical-align: middle;\n",
              "    }\n",
              "\n",
              "    .dataframe tbody tr th {\n",
              "        vertical-align: top;\n",
              "    }\n",
              "\n",
              "    .dataframe thead th {\n",
              "        text-align: right;\n",
              "    }\n",
              "</style>\n",
              "<table border=\"1\" class=\"dataframe\">\n",
              "  <thead>\n",
              "    <tr style=\"text-align: right;\">\n",
              "      <th>Asthma</th>\n",
              "      <th>No</th>\n",
              "      <th>Yes</th>\n",
              "    </tr>\n",
              "    <tr>\n",
              "      <th>Diabetes</th>\n",
              "      <th></th>\n",
              "      <th></th>\n",
              "    </tr>\n",
              "  </thead>\n",
              "  <tbody>\n",
              "    <tr>\n",
              "      <th>No</th>\n",
              "      <td>181534</td>\n",
              "      <td>25370</td>\n",
              "    </tr>\n",
              "    <tr>\n",
              "      <th>Yes</th>\n",
              "      <td>32518</td>\n",
              "      <td>7265</td>\n",
              "    </tr>\n",
              "  </tbody>\n",
              "</table>\n",
              "</div>"
            ],
            "text/plain": [
              "Asthma        No    Yes\n",
              "Diabetes               \n",
              "No        181534  25370\n",
              "Yes        32518   7265"
            ]
          },
          "metadata": {
            "tags": []
          },
          "execution_count": 100
        }
      ]
    },
    {
      "cell_type": "code",
      "metadata": {
        "colab": {
          "base_uri": "https://localhost:8080/"
        },
        "id": "PLn0N7pGh0b3",
        "outputId": "95bdc263-9544-469e-f5a0-775821e7444b"
      },
      "source": [
        "oddAs, pvalueAs = stats.fisher_exact([[7265, 32518], [25370, 181534]])\n",
        "\n",
        "print('oddAs=%.3f, pvalueAs=%.3f' % (oddAs, pvalueAs))"
      ],
      "execution_count": null,
      "outputs": [
        {
          "output_type": "stream",
          "text": [
            "oddAs=1.599, pvalueAs=0.000\n"
          ],
          "name": "stdout"
        }
      ]
    },
    {
      "cell_type": "markdown",
      "metadata": {
        "id": "Qhf52RvWz27X"
      },
      "source": [
        "##### The odds of Type 2 Diabetes are 1.599 (almost 1.6) times higher in people who have Asthma than people who did not."
      ]
    },
    {
      "cell_type": "code",
      "metadata": {
        "colab": {
          "base_uri": "https://localhost:8080/",
          "height": 285
        },
        "id": "Ev2Pt4NvOU52",
        "outputId": "332cbc1c-e5a5-4a88-d89e-8379cea35031"
      },
      "source": [
        "sns.histplot(data = df, x = 'MedAffordability', hue = 'Diabetes', multiple=\"stack\", palette=['#DBDADB', '#C12E14'])\n",
        "plt.show()"
      ],
      "execution_count": null,
      "outputs": [
        {
          "output_type": "display_data",
          "data": {
            "image/png": "[encoded data removed]",
            "text/plain": [
              "<Figure size 432x288 with 1 Axes>"
            ]
          },
          "metadata": {
            "tags": []
          }
        }
      ]
    },
    {
      "cell_type": "markdown",
      "metadata": {
        "id": "eh7fMLwWOU52"
      },
      "source": [
        "##### The variable COPD"
      ]
    },
    {
      "cell_type": "code",
      "metadata": {
        "id": "2wGlymrqOU52"
      },
      "source": [
        "df['COPD'] = pd.cut(df['COPD'], [0, 1, 2], labels = ['Yes', 'No'])"
      ],
      "execution_count": null,
      "outputs": []
    },
    {
      "cell_type": "code",
      "metadata": {
        "colab": {
          "base_uri": "https://localhost:8080/",
          "height": 141
        },
        "id": "O6b5n7b7OU53",
        "outputId": "065c0b4b-074f-4795-ba5b-671c890734fc"
      },
      "source": [
        "pd.crosstab(df['Diabetes'], df['COPD'])"
      ],
      "execution_count": null,
      "outputs": [
        {
          "output_type": "execute_result",
          "data": {
            "text/html": [
              "<div>\n",
              "<style scoped>\n",
              "    .dataframe tbody tr th:only-of-type {\n",
              "        vertical-align: middle;\n",
              "    }\n",
              "\n",
              "    .dataframe tbody tr th {\n",
              "        vertical-align: top;\n",
              "    }\n",
              "\n",
              "    .dataframe thead th {\n",
              "        text-align: right;\n",
              "    }\n",
              "</style>\n",
              "<table border=\"1\" class=\"dataframe\">\n",
              "  <thead>\n",
              "    <tr style=\"text-align: right;\">\n",
              "      <th>COPD</th>\n",
              "      <th>Yes</th>\n",
              "      <th>No</th>\n",
              "    </tr>\n",
              "    <tr>\n",
              "      <th>Diabetes</th>\n",
              "      <th></th>\n",
              "      <th></th>\n",
              "    </tr>\n",
              "  </thead>\n",
              "  <tbody>\n",
              "    <tr>\n",
              "      <th>No</th>\n",
              "      <td>16423</td>\n",
              "      <td>190481</td>\n",
              "    </tr>\n",
              "    <tr>\n",
              "      <th>Yes</th>\n",
              "      <td>6473</td>\n",
              "      <td>33310</td>\n",
              "    </tr>\n",
              "  </tbody>\n",
              "</table>\n",
              "</div>"
            ],
            "text/plain": [
              "COPD        Yes      No\n",
              "Diabetes               \n",
              "No        16423  190481\n",
              "Yes        6473   33310"
            ]
          },
          "metadata": {
            "tags": []
          },
          "execution_count": 103
        }
      ]
    },
    {
      "cell_type": "code",
      "metadata": {
        "colab": {
          "base_uri": "https://localhost:8080/"
        },
        "id": "WKJIkSg1ikOb",
        "outputId": "1dac9c32-9865-43e6-ed7e-7e406b3415fd"
      },
      "source": [
        "oddCo, pvalueCo = stats.fisher_exact([[6473, 33310], [16423, 190481]])\n",
        "\n",
        "print('oddCo=%.3f, pvalueCo=%.3f' % (oddCo, pvalueCo))"
      ],
      "execution_count": null,
      "outputs": [
        {
          "output_type": "stream",
          "text": [
            "oddCo=2.254, pvalueCo=0.000\n"
          ],
          "name": "stdout"
        }
      ]
    },
    {
      "cell_type": "markdown",
      "metadata": {
        "id": "k5pDXU8xz27b"
      },
      "source": [
        "##### The odds of Type 2 Diabetes are 2.254 times higher in people with COPD than people who did not."
      ]
    },
    {
      "cell_type": "code",
      "metadata": {
        "colab": {
          "base_uri": "https://localhost:8080/",
          "height": 285
        },
        "id": "R2VbSx5HOU53",
        "outputId": "68dd81a5-39f8-4f50-9e94-afedc665e2d5"
      },
      "source": [
        "sns.histplot(data = df, x = 'COPD', hue = 'Diabetes', multiple=\"stack\", palette=['#DBDADB', '#C12E14'])\n",
        "plt.show()"
      ],
      "execution_count": null,
      "outputs": [
        {
          "output_type": "display_data",
          "data": {
            "image/png": "[encoded data removed]",
            "text/plain": [
              "<Figure size 432x288 with 1 Axes>"
            ]
          },
          "metadata": {
            "tags": []
          }
        }
      ]
    },
    {
      "cell_type": "code",
      "metadata": {
        "colab": {
          "base_uri": "https://localhost:8080/"
        },
        "id": "IL43oW9qOU54",
        "outputId": "91ec33a7-a467-4d12-db1c-6558948d2b58"
      },
      "source": [
        "df.shape"
      ],
      "execution_count": null,
      "outputs": [
        {
          "output_type": "execute_result",
          "data": {
            "text/plain": [
              "(246687, 33)"
            ]
          },
          "metadata": {
            "tags": []
          },
          "execution_count": 105
        }
      ]
    },
    {
      "cell_type": "code",
      "metadata": {
        "id": "B6WWqZgCOU55"
      },
      "source": [
        "Type2Df = df[['Focused', 'CardioVasc', 'KidneyDis', 'Sex', 'Race', 'MaritalStatus', 'Insurance', 'MedAffordability', 'Flushot', 'Depression', 'Housing', 'PartExercise', 'COPD',\n",
        "              'Vision', 'Smoke', 'Employment', 'EducationLevel','Income', 'GenHealth', 'PhysicalHealth','AgeGrp', 'Sleep', 'LastVCat', 'BMI', 'PCP', 'Stroke', 'Asthma', 'RmTeeth',\n",
        "              'Metrop','Diabetes']]"
      ],
      "execution_count": null,
      "outputs": []
    },
    {
      "cell_type": "code",
      "metadata": {
        "colab": {
          "base_uri": "https://localhost:8080/"
        },
        "id": "AlC_0Ezlj_i_",
        "outputId": "defa0d99-9243-4b1d-a65f-8f5c34c65b2f"
      },
      "source": [
        "Type2Df.shape"
      ],
      "execution_count": null,
      "outputs": [
        {
          "output_type": "execute_result",
          "data": {
            "text/plain": [
              "(246687, 30)"
            ]
          },
          "metadata": {
            "tags": []
          },
          "execution_count": 105
        }
      ]
    },
    {
      "cell_type": "markdown",
      "metadata": {
        "id": "_JJj5DiUOU55"
      },
      "source": [
        "##### Saving the file to a csv file in order to save all the changes"
      ]
    },
    {
      "cell_type": "code",
      "metadata": {
        "id": "4Us2ZLpCOU56"
      },
      "source": [
        "Type2Df.to_csv(r'C:\\Users\\ibrah\\Documents\\SharpestMind\\Type2Diabetes\\DiabetesT2.csv', index=False)"
      ],
      "execution_count": null,
      "outputs": []
    },
    {
      "cell_type": "code",
      "metadata": {
        "colab": {
          "base_uri": "https://localhost:8080/",
          "height": 309
        },
        "id": "FBtTp3FJOU56",
        "outputId": "9d8abf7b-9727-42b4-d5bd-8dc4304dabd9"
      },
      "source": [
        "df1 = Type2Df.copy()\n",
        "df1.head()"
      ],
      "execution_count": null,
      "outputs": [
        {
          "output_type": "execute_result",
          "data": {
            "text/html": [
              "<div>\n",
              "<style scoped>\n",
              "    .dataframe tbody tr th:only-of-type {\n",
              "        vertical-align: middle;\n",
              "    }\n",
              "\n",
              "    .dataframe tbody tr th {\n",
              "        vertical-align: top;\n",
              "    }\n",
              "\n",
              "    .dataframe thead th {\n",
              "        text-align: right;\n",
              "    }\n",
              "</style>\n",
              "<table border=\"1\" class=\"dataframe\">\n",
              "  <thead>\n",
              "    <tr style=\"text-align: right;\">\n",
              "      <th></th>\n",
              "      <th>Focused</th>\n",
              "      <th>CardioVasc</th>\n",
              "      <th>KidneyDis</th>\n",
              "      <th>Sex</th>\n",
              "      <th>Race</th>\n",
              "      <th>MaritalStatus</th>\n",
              "      <th>Insurance</th>\n",
              "      <th>MedAffordability</th>\n",
              "      <th>Flushot</th>\n",
              "      <th>Depression</th>\n",
              "      <th>...</th>\n",
              "      <th>AgeGrp</th>\n",
              "      <th>Sleep</th>\n",
              "      <th>LastVCat</th>\n",
              "      <th>BMI</th>\n",
              "      <th>PCP</th>\n",
              "      <th>Stroke</th>\n",
              "      <th>Asthma</th>\n",
              "      <th>RmTeeth</th>\n",
              "      <th>Metrop</th>\n",
              "      <th>Diabetes</th>\n",
              "    </tr>\n",
              "  </thead>\n",
              "  <tbody>\n",
              "    <tr>\n",
              "      <th>0</th>\n",
              "      <td>No</td>\n",
              "      <td>No</td>\n",
              "      <td>No</td>\n",
              "      <td>Female</td>\n",
              "      <td>White</td>\n",
              "      <td>Widowed</td>\n",
              "      <td>Coverage</td>\n",
              "      <td>NotAfford</td>\n",
              "      <td>Yes</td>\n",
              "      <td>No</td>\n",
              "      <td>...</td>\n",
              "      <td>Eighties &amp; up</td>\n",
              "      <td>Normal</td>\n",
              "      <td>Within a year</td>\n",
              "      <td>Normal</td>\n",
              "      <td>Yes</td>\n",
              "      <td>No</td>\n",
              "      <td>No</td>\n",
              "      <td>1 to 5</td>\n",
              "      <td>No</td>\n",
              "      <td>No</td>\n",
              "    </tr>\n",
              "    <tr>\n",
              "      <th>2</th>\n",
              "      <td>No</td>\n",
              "      <td>No</td>\n",
              "      <td>No</td>\n",
              "      <td>Female</td>\n",
              "      <td>White</td>\n",
              "      <td>Widowed</td>\n",
              "      <td>Coverage</td>\n",
              "      <td>NotAfford</td>\n",
              "      <td>Yes</td>\n",
              "      <td>Yes</td>\n",
              "      <td>...</td>\n",
              "      <td>Seventies</td>\n",
              "      <td>Normal</td>\n",
              "      <td>Within a year</td>\n",
              "      <td>Over Weight</td>\n",
              "      <td>Yes</td>\n",
              "      <td>Yes</td>\n",
              "      <td>No</td>\n",
              "      <td>None</td>\n",
              "      <td>No</td>\n",
              "      <td>Yes</td>\n",
              "    </tr>\n",
              "    <tr>\n",
              "      <th>3</th>\n",
              "      <td>No</td>\n",
              "      <td>No</td>\n",
              "      <td>No</td>\n",
              "      <td>Male</td>\n",
              "      <td>White</td>\n",
              "      <td>Divorced</td>\n",
              "      <td>Coverage</td>\n",
              "      <td>NotAfford</td>\n",
              "      <td>Yes</td>\n",
              "      <td>No</td>\n",
              "      <td>...</td>\n",
              "      <td>Sixties</td>\n",
              "      <td>NotEnough</td>\n",
              "      <td>Within a year</td>\n",
              "      <td>Over Weight</td>\n",
              "      <td>Yes</td>\n",
              "      <td>No</td>\n",
              "      <td>No</td>\n",
              "      <td>1 to 5</td>\n",
              "      <td>Yes</td>\n",
              "      <td>No</td>\n",
              "    </tr>\n",
              "    <tr>\n",
              "      <th>6</th>\n",
              "      <td>No</td>\n",
              "      <td>No</td>\n",
              "      <td>No</td>\n",
              "      <td>Female</td>\n",
              "      <td>White</td>\n",
              "      <td>Married</td>\n",
              "      <td>Coverage</td>\n",
              "      <td>NotAfford</td>\n",
              "      <td>Yes</td>\n",
              "      <td>No</td>\n",
              "      <td>...</td>\n",
              "      <td>Seventies</td>\n",
              "      <td>Normal</td>\n",
              "      <td>Within a year</td>\n",
              "      <td>Normal</td>\n",
              "      <td>Yes</td>\n",
              "      <td>No</td>\n",
              "      <td>No</td>\n",
              "      <td>None</td>\n",
              "      <td>Yes</td>\n",
              "      <td>No</td>\n",
              "    </tr>\n",
              "    <tr>\n",
              "      <th>8</th>\n",
              "      <td>No</td>\n",
              "      <td>No</td>\n",
              "      <td>No</td>\n",
              "      <td>Male</td>\n",
              "      <td>White</td>\n",
              "      <td>Married</td>\n",
              "      <td>Coverage</td>\n",
              "      <td>NotAfford</td>\n",
              "      <td>No</td>\n",
              "      <td>No</td>\n",
              "      <td>...</td>\n",
              "      <td>Fifties</td>\n",
              "      <td>NotEnough</td>\n",
              "      <td>Within a year</td>\n",
              "      <td>Over Weight</td>\n",
              "      <td>Yes</td>\n",
              "      <td>No</td>\n",
              "      <td>No</td>\n",
              "      <td>None</td>\n",
              "      <td>No</td>\n",
              "      <td>Yes</td>\n",
              "    </tr>\n",
              "  </tbody>\n",
              "</table>\n",
              "<p>5 rows × 30 columns</p>\n",
              "</div>"
            ],
            "text/plain": [
              "  Focused CardioVasc KidneyDis     Sex   Race MaritalStatus Insurance  \\\n",
              "0      No         No        No  Female  White       Widowed  Coverage   \n",
              "2      No         No        No  Female  White       Widowed  Coverage   \n",
              "3      No         No        No    Male  White      Divorced  Coverage   \n",
              "6      No         No        No  Female  White       Married  Coverage   \n",
              "8      No         No        No    Male  White       Married  Coverage   \n",
              "\n",
              "  MedAffordability Flushot Depression  ...         AgeGrp      Sleep  \\\n",
              "0        NotAfford     Yes         No  ...  Eighties & up     Normal   \n",
              "2        NotAfford     Yes        Yes  ...      Seventies     Normal   \n",
              "3        NotAfford     Yes         No  ...        Sixties  NotEnough   \n",
              "6        NotAfford     Yes         No  ...      Seventies     Normal   \n",
              "8        NotAfford      No         No  ...        Fifties  NotEnough   \n",
              "\n",
              "        LastVCat          BMI  PCP Stroke Asthma RmTeeth Metrop Diabetes  \n",
              "0  Within a year       Normal  Yes     No     No  1 to 5     No       No  \n",
              "2  Within a year  Over Weight  Yes    Yes     No    None     No      Yes  \n",
              "3  Within a year  Over Weight  Yes     No     No  1 to 5    Yes       No  \n",
              "6  Within a year       Normal  Yes     No     No    None    Yes       No  \n",
              "8  Within a year  Over Weight  Yes     No     No    None     No      Yes  \n",
              "\n",
              "[5 rows x 30 columns]"
            ]
          },
          "metadata": {
            "tags": []
          },
          "execution_count": 108
        }
      ]
    }
  ]
}